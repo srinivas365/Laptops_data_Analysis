{
 "cells": [
  {
   "cell_type": "code",
   "execution_count": 1,
   "metadata": {
    "collapsed": true
   },
   "outputs": [],
   "source": [
    "import numpy as np # linear algebra\n",
    "import pandas as pd # data processing, CSV file I/O (e.g. pd.read_csv)\n",
    "import matplotlib.pyplot as plt # visualization\n",
    "import re\n",
    "%matplotlib inline"
   ]
  },
  {
   "cell_type": "markdown",
   "metadata": {},
   "source": [
    "**To get a brief overview, this notebook is dedicated to 5 sections as follows**\n",
    "1. Context of dataset\n",
    "2. Data cleaning\n",
    "3. EDA\n",
    "4. Results\n",
    "5. Conclusion"
   ]
  },
  {
   "cell_type": "markdown",
   "metadata": {},
   "source": [
    "**Loading file Hp_laptos.csv into dataframe**"
   ]
  },
  {
   "cell_type": "code",
   "execution_count": 2,
   "metadata": {
    "collapsed": true
   },
   "outputs": [],
   "source": [
    "df=pd.read_csv('Hp_laptops.csv',encoding='unicode-escape')"
   ]
  },
  {
   "cell_type": "markdown",
   "metadata": {},
   "source": [
    "**Let's have glance at a bit of data**"
   ]
  },
  {
   "cell_type": "code",
   "execution_count": 3,
   "metadata": {},
   "outputs": [
    {
     "data": {
      "text/html": [
       "<div>\n",
       "<style>\n",
       "    .dataframe thead tr:only-child th {\n",
       "        text-align: right;\n",
       "    }\n",
       "\n",
       "    .dataframe thead th {\n",
       "        text-align: left;\n",
       "    }\n",
       "\n",
       "    .dataframe tbody tr th {\n",
       "        vertical-align: top;\n",
       "    }\n",
       "</style>\n",
       "<table border=\"1\" class=\"dataframe\">\n",
       "  <thead>\n",
       "    <tr style=\"text-align: right;\">\n",
       "      <th></th>\n",
       "      <th>Unnamed: 0</th>\n",
       "      <th>Name</th>\n",
       "      <th>actual_price</th>\n",
       "      <th>discout</th>\n",
       "      <th>display</th>\n",
       "      <th>final_price</th>\n",
       "      <th>generation</th>\n",
       "      <th>graphic_card</th>\n",
       "      <th>hard_disk</th>\n",
       "      <th>included_items</th>\n",
       "      <th>os_installed</th>\n",
       "      <th>processor</th>\n",
       "      <th>processor_company</th>\n",
       "      <th>processor_type</th>\n",
       "      <th>ram</th>\n",
       "      <th>rating</th>\n",
       "    </tr>\n",
       "  </thead>\n",
       "  <tbody>\n",
       "    <tr>\n",
       "      <th>0</th>\n",
       "      <td>0</td>\n",
       "      <td>HP ENVY x360 - 13-ag0035au</td>\n",
       "      <td>83,496</td>\n",
       "      <td>10,506</td>\n",
       "      <td>13.3\" FHD multitouch-enabled edge-to-edge glas...</td>\n",
       "      <td>72,990</td>\n",
       "      <td>NaN</td>\n",
       "      <td>AMD Radeon Vega 8 Graphics</td>\n",
       "      <td>256 GB SSD</td>\n",
       "      <td>NaN</td>\n",
       "      <td>Windows 10 Home Single Language 64</td>\n",
       "      <td>AMD Ryzen 5 processor</td>\n",
       "      <td>AMD</td>\n",
       "      <td>Ryzen 5</td>\n",
       "      <td>8 GB DDR4-2400 SDRAM (onboard)</td>\n",
       "      <td>3.6667</td>\n",
       "    </tr>\n",
       "    <tr>\n",
       "      <th>1</th>\n",
       "      <td>1</td>\n",
       "      <td>HP Gaming Pavilion - 15-cx0140tx</td>\n",
       "      <td>86,476</td>\n",
       "      <td>13,486</td>\n",
       "      <td>NaN</td>\n",
       "      <td>72,990</td>\n",
       "      <td>8.0</td>\n",
       "      <td>NVIDIA® GeForce® GTX 1050 (4 GB GDDR5 dedicated)</td>\n",
       "      <td>1 TB 7200 rpm SATA</td>\n",
       "      <td>HP Odyssey backpack (Worth ?3,499),Microsoft O...</td>\n",
       "      <td>Windows 10 Home Single Language 64</td>\n",
       "      <td>8th Generation Intel® Core i5 processor</td>\n",
       "      <td>Intel</td>\n",
       "      <td>i5</td>\n",
       "      <td>8 GB DDR4-2666 SDRAM (1 x 8 GB)</td>\n",
       "      <td>5.0000</td>\n",
       "    </tr>\n",
       "    <tr>\n",
       "      <th>2</th>\n",
       "      <td>2</td>\n",
       "      <td>HP Notebook - 15-da0435tx</td>\n",
       "      <td>50,292</td>\n",
       "      <td>5,712</td>\n",
       "      <td>NaN</td>\n",
       "      <td>44,580</td>\n",
       "      <td>7.0</td>\n",
       "      <td>NVIDIA® GeForce® MX110 (2 GB DDR3 dedicated)</td>\n",
       "      <td>1 TB 5400 rpm SATA</td>\n",
       "      <td>NaN</td>\n",
       "      <td>Windows 10 Home Single Language 64</td>\n",
       "      <td>7th Generation Intel® Core i3 processor</td>\n",
       "      <td>Intel</td>\n",
       "      <td>i3</td>\n",
       "      <td>8 GB DDR4-2133 SDRAM (1 x 8 GB)</td>\n",
       "      <td>4.0000</td>\n",
       "    </tr>\n",
       "    <tr>\n",
       "      <th>3</th>\n",
       "      <td>3</td>\n",
       "      <td>HP Notebook - 15g-dr0006tx</td>\n",
       "      <td>66,137</td>\n",
       "      <td>7,146</td>\n",
       "      <td>NaN</td>\n",
       "      <td>58,991</td>\n",
       "      <td>8.0</td>\n",
       "      <td>NVIDIA® GeForce® MX110 (2 GB DDR3 dedicated)</td>\n",
       "      <td>1 TB 5400 rpm SATA</td>\n",
       "      <td>HP Original Laptop Bag (Worth ?1,123),1 Year O...</td>\n",
       "      <td>Windows 10 Home Single Language 64</td>\n",
       "      <td>8th Generation Intel® Core i5 processor</td>\n",
       "      <td>Intel</td>\n",
       "      <td>i5</td>\n",
       "      <td>8 GB DDR4-2400 SDRAM (1 x 8 GB)</td>\n",
       "      <td>4.0625</td>\n",
       "    </tr>\n",
       "    <tr>\n",
       "      <th>4</th>\n",
       "      <td>4</td>\n",
       "      <td>HP Notebook 15-da1030tu</td>\n",
       "      <td>50,720</td>\n",
       "      <td>3,730</td>\n",
       "      <td>NaN</td>\n",
       "      <td>46,990</td>\n",
       "      <td>8.0</td>\n",
       "      <td>NaN</td>\n",
       "      <td>1 TB 5400 rpm SATA</td>\n",
       "      <td>HP Original Laptop Bag (Worth ?1,123),Microsof...</td>\n",
       "      <td>Windows 10 Home 64</td>\n",
       "      <td>8th Generation Intel® Core i5 processor</td>\n",
       "      <td>Intel</td>\n",
       "      <td>i5</td>\n",
       "      <td>4 GB DDR4-2400 SDRAM</td>\n",
       "      <td>2.0000</td>\n",
       "    </tr>\n",
       "  </tbody>\n",
       "</table>\n",
       "</div>"
      ],
      "text/plain": [
       "   Unnamed: 0                              Name actual_price discout  \\\n",
       "0           0        HP ENVY x360 - 13-ag0035au       83,496  10,506   \n",
       "1           1  HP Gaming Pavilion - 15-cx0140tx       86,476  13,486   \n",
       "2           2         HP Notebook - 15-da0435tx       50,292   5,712   \n",
       "3           3        HP Notebook - 15g-dr0006tx       66,137   7,146   \n",
       "4           4           HP Notebook 15-da1030tu       50,720   3,730   \n",
       "\n",
       "                                             display final_price  generation  \\\n",
       "0  13.3\" FHD multitouch-enabled edge-to-edge glas...      72,990         NaN   \n",
       "1                                                NaN      72,990         8.0   \n",
       "2                                                NaN      44,580         7.0   \n",
       "3                                                NaN      58,991         8.0   \n",
       "4                                                NaN      46,990         8.0   \n",
       "\n",
       "                                       graphic_card           hard_disk  \\\n",
       "0                       AMD Radeon Vega 8 Graphics          256 GB SSD   \n",
       "1  NVIDIA® GeForce® GTX 1050 (4 GB GDDR5 dedicated)  1 TB 7200 rpm SATA   \n",
       "2      NVIDIA® GeForce® MX110 (2 GB DDR3 dedicated)  1 TB 5400 rpm SATA   \n",
       "3      NVIDIA® GeForce® MX110 (2 GB DDR3 dedicated)  1 TB 5400 rpm SATA   \n",
       "4                                               NaN  1 TB 5400 rpm SATA   \n",
       "\n",
       "                                      included_items  \\\n",
       "0                                                NaN   \n",
       "1  HP Odyssey backpack (Worth ?3,499),Microsoft O...   \n",
       "2                                                NaN   \n",
       "3  HP Original Laptop Bag (Worth ?1,123),1 Year O...   \n",
       "4  HP Original Laptop Bag (Worth ?1,123),Microsof...   \n",
       "\n",
       "                         os_installed  \\\n",
       "0  Windows 10 Home Single Language 64   \n",
       "1  Windows 10 Home Single Language 64   \n",
       "2  Windows 10 Home Single Language 64   \n",
       "3  Windows 10 Home Single Language 64   \n",
       "4                  Windows 10 Home 64   \n",
       "\n",
       "                                  processor processor_company processor_type  \\\n",
       "0                    AMD Ryzen 5 processor               AMD       Ryzen 5   \n",
       "1  8th Generation Intel® Core i5 processor             Intel             i5   \n",
       "2  7th Generation Intel® Core i3 processor             Intel             i3   \n",
       "3  8th Generation Intel® Core i5 processor             Intel             i5   \n",
       "4  8th Generation Intel® Core i5 processor             Intel             i5   \n",
       "\n",
       "                               ram  rating  \n",
       "0   8 GB DDR4-2400 SDRAM (onboard)  3.6667  \n",
       "1  8 GB DDR4-2666 SDRAM (1 x 8 GB)  5.0000  \n",
       "2  8 GB DDR4-2133 SDRAM (1 x 8 GB)  4.0000  \n",
       "3  8 GB DDR4-2400 SDRAM (1 x 8 GB)  4.0625  \n",
       "4             4 GB DDR4-2400 SDRAM  2.0000  "
      ]
     },
     "execution_count": 3,
     "metadata": {},
     "output_type": "execute_result"
    }
   ],
   "source": [
    "df.head()"
   ]
  },
  {
   "cell_type": "markdown",
   "metadata": {},
   "source": [
    "**Information of each column in the dataframe**"
   ]
  },
  {
   "cell_type": "code",
   "execution_count": 4,
   "metadata": {},
   "outputs": [
    {
     "name": "stdout",
     "output_type": "stream",
     "text": [
      "<class 'pandas.core.frame.DataFrame'>\n",
      "RangeIndex: 163 entries, 0 to 162\n",
      "Data columns (total 16 columns):\n",
      "Unnamed: 0           163 non-null int64\n",
      "Name                 163 non-null object\n",
      "actual_price         163 non-null object\n",
      "discout              163 non-null object\n",
      "display              29 non-null object\n",
      "final_price          163 non-null object\n",
      "generation           131 non-null float64\n",
      "graphic_card         161 non-null object\n",
      "hard_disk            161 non-null object\n",
      "included_items       131 non-null object\n",
      "os_installed         163 non-null object\n",
      "processor            149 non-null object\n",
      "processor_company    146 non-null object\n",
      "processor_type       146 non-null object\n",
      "ram                  161 non-null object\n",
      "rating               158 non-null float64\n",
      "dtypes: float64(2), int64(1), object(13)\n",
      "memory usage: 20.5+ KB\n"
     ]
    }
   ],
   "source": [
    "df.info()"
   ]
  },
  {
   "cell_type": "markdown",
   "metadata": {
    "collapsed": true
   },
   "source": [
    "**Shape of the dataframe**"
   ]
  },
  {
   "cell_type": "code",
   "execution_count": 5,
   "metadata": {},
   "outputs": [
    {
     "data": {
      "text/plain": [
       "(163, 16)"
      ]
     },
     "execution_count": 5,
     "metadata": {},
     "output_type": "execute_result"
    }
   ],
   "source": [
    "df.shape"
   ]
  },
  {
   "cell_type": "markdown",
   "metadata": {},
   "source": [
    "In the dataframe first column is no use at all \n",
    "\n",
    "**Dropping the first column**"
   ]
  },
  {
   "cell_type": "code",
   "execution_count": 6,
   "metadata": {
    "collapsed": true
   },
   "outputs": [],
   "source": [
    "df.drop(['Unnamed: 0'],axis=1,inplace=True)"
   ]
  },
  {
   "cell_type": "markdown",
   "metadata": {},
   "source": [
    "**Data cleaning**\n",
    "\n",
    "- check if any NA's are present"
   ]
  },
  {
   "cell_type": "code",
   "execution_count": 7,
   "metadata": {},
   "outputs": [
    {
     "data": {
      "text/plain": [
       "Name                   0\n",
       "actual_price           0\n",
       "discout                0\n",
       "display              134\n",
       "final_price            0\n",
       "generation            32\n",
       "graphic_card           2\n",
       "hard_disk              2\n",
       "included_items        32\n",
       "os_installed           0\n",
       "processor             14\n",
       "processor_company     17\n",
       "processor_type        17\n",
       "ram                    2\n",
       "rating                 5\n",
       "dtype: int64"
      ]
     },
     "execution_count": 7,
     "metadata": {},
     "output_type": "execute_result"
    }
   ],
   "source": [
    "df.isnull().sum()"
   ]
  },
  {
   "cell_type": "markdown",
   "metadata": {},
   "source": [
    "The column display has 134 NaN values which is more than 40% of total data. So we can drop it"
   ]
  },
  {
   "cell_type": "code",
   "execution_count": 8,
   "metadata": {
    "collapsed": true
   },
   "outputs": [],
   "source": [
    "df.drop(['display'],axis=1,inplace=True)"
   ]
  },
  {
   "cell_type": "code",
   "execution_count": 9,
   "metadata": {},
   "outputs": [
    {
     "data": {
      "text/html": [
       "<div>\n",
       "<style>\n",
       "    .dataframe thead tr:only-child th {\n",
       "        text-align: right;\n",
       "    }\n",
       "\n",
       "    .dataframe thead th {\n",
       "        text-align: left;\n",
       "    }\n",
       "\n",
       "    .dataframe tbody tr th {\n",
       "        vertical-align: top;\n",
       "    }\n",
       "</style>\n",
       "<table border=\"1\" class=\"dataframe\">\n",
       "  <thead>\n",
       "    <tr style=\"text-align: right;\">\n",
       "      <th></th>\n",
       "      <th>Name</th>\n",
       "      <th>actual_price</th>\n",
       "      <th>discout</th>\n",
       "      <th>final_price</th>\n",
       "      <th>generation</th>\n",
       "      <th>graphic_card</th>\n",
       "      <th>hard_disk</th>\n",
       "      <th>included_items</th>\n",
       "      <th>os_installed</th>\n",
       "      <th>processor</th>\n",
       "      <th>processor_company</th>\n",
       "      <th>processor_type</th>\n",
       "      <th>ram</th>\n",
       "      <th>rating</th>\n",
       "    </tr>\n",
       "  </thead>\n",
       "  <tbody>\n",
       "    <tr>\n",
       "      <th>0</th>\n",
       "      <td>HP ENVY x360 - 13-ag0035au</td>\n",
       "      <td>83,496</td>\n",
       "      <td>10,506</td>\n",
       "      <td>72,990</td>\n",
       "      <td>NaN</td>\n",
       "      <td>AMD Radeon Vega 8 Graphics</td>\n",
       "      <td>256 GB SSD</td>\n",
       "      <td>NaN</td>\n",
       "      <td>Windows 10 Home Single Language 64</td>\n",
       "      <td>AMD Ryzen 5 processor</td>\n",
       "      <td>AMD</td>\n",
       "      <td>Ryzen 5</td>\n",
       "      <td>8 GB DDR4-2400 SDRAM (onboard)</td>\n",
       "      <td>3.6667</td>\n",
       "    </tr>\n",
       "    <tr>\n",
       "      <th>1</th>\n",
       "      <td>HP Gaming Pavilion - 15-cx0140tx</td>\n",
       "      <td>86,476</td>\n",
       "      <td>13,486</td>\n",
       "      <td>72,990</td>\n",
       "      <td>8.0</td>\n",
       "      <td>NVIDIA® GeForce® GTX 1050 (4 GB GDDR5 dedicated)</td>\n",
       "      <td>1 TB 7200 rpm SATA</td>\n",
       "      <td>HP Odyssey backpack (Worth ?3,499),Microsoft O...</td>\n",
       "      <td>Windows 10 Home Single Language 64</td>\n",
       "      <td>8th Generation Intel® Core i5 processor</td>\n",
       "      <td>Intel</td>\n",
       "      <td>i5</td>\n",
       "      <td>8 GB DDR4-2666 SDRAM (1 x 8 GB)</td>\n",
       "      <td>5.0000</td>\n",
       "    </tr>\n",
       "    <tr>\n",
       "      <th>2</th>\n",
       "      <td>HP Notebook - 15-da0435tx</td>\n",
       "      <td>50,292</td>\n",
       "      <td>5,712</td>\n",
       "      <td>44,580</td>\n",
       "      <td>7.0</td>\n",
       "      <td>NVIDIA® GeForce® MX110 (2 GB DDR3 dedicated)</td>\n",
       "      <td>1 TB 5400 rpm SATA</td>\n",
       "      <td>NaN</td>\n",
       "      <td>Windows 10 Home Single Language 64</td>\n",
       "      <td>7th Generation Intel® Core i3 processor</td>\n",
       "      <td>Intel</td>\n",
       "      <td>i3</td>\n",
       "      <td>8 GB DDR4-2133 SDRAM (1 x 8 GB)</td>\n",
       "      <td>4.0000</td>\n",
       "    </tr>\n",
       "    <tr>\n",
       "      <th>3</th>\n",
       "      <td>HP Notebook - 15g-dr0006tx</td>\n",
       "      <td>66,137</td>\n",
       "      <td>7,146</td>\n",
       "      <td>58,991</td>\n",
       "      <td>8.0</td>\n",
       "      <td>NVIDIA® GeForce® MX110 (2 GB DDR3 dedicated)</td>\n",
       "      <td>1 TB 5400 rpm SATA</td>\n",
       "      <td>HP Original Laptop Bag (Worth ?1,123),1 Year O...</td>\n",
       "      <td>Windows 10 Home Single Language 64</td>\n",
       "      <td>8th Generation Intel® Core i5 processor</td>\n",
       "      <td>Intel</td>\n",
       "      <td>i5</td>\n",
       "      <td>8 GB DDR4-2400 SDRAM (1 x 8 GB)</td>\n",
       "      <td>4.0625</td>\n",
       "    </tr>\n",
       "    <tr>\n",
       "      <th>4</th>\n",
       "      <td>HP Notebook 15-da1030tu</td>\n",
       "      <td>50,720</td>\n",
       "      <td>3,730</td>\n",
       "      <td>46,990</td>\n",
       "      <td>8.0</td>\n",
       "      <td>NaN</td>\n",
       "      <td>1 TB 5400 rpm SATA</td>\n",
       "      <td>HP Original Laptop Bag (Worth ?1,123),Microsof...</td>\n",
       "      <td>Windows 10 Home 64</td>\n",
       "      <td>8th Generation Intel® Core i5 processor</td>\n",
       "      <td>Intel</td>\n",
       "      <td>i5</td>\n",
       "      <td>4 GB DDR4-2400 SDRAM</td>\n",
       "      <td>2.0000</td>\n",
       "    </tr>\n",
       "  </tbody>\n",
       "</table>\n",
       "</div>"
      ],
      "text/plain": [
       "                               Name actual_price discout final_price  \\\n",
       "0        HP ENVY x360 - 13-ag0035au       83,496  10,506      72,990   \n",
       "1  HP Gaming Pavilion - 15-cx0140tx       86,476  13,486      72,990   \n",
       "2         HP Notebook - 15-da0435tx       50,292   5,712      44,580   \n",
       "3        HP Notebook - 15g-dr0006tx       66,137   7,146      58,991   \n",
       "4           HP Notebook 15-da1030tu       50,720   3,730      46,990   \n",
       "\n",
       "   generation                                      graphic_card  \\\n",
       "0         NaN                       AMD Radeon Vega 8 Graphics   \n",
       "1         8.0  NVIDIA® GeForce® GTX 1050 (4 GB GDDR5 dedicated)   \n",
       "2         7.0      NVIDIA® GeForce® MX110 (2 GB DDR3 dedicated)   \n",
       "3         8.0      NVIDIA® GeForce® MX110 (2 GB DDR3 dedicated)   \n",
       "4         8.0                                               NaN   \n",
       "\n",
       "            hard_disk                                     included_items  \\\n",
       "0          256 GB SSD                                                NaN   \n",
       "1  1 TB 7200 rpm SATA  HP Odyssey backpack (Worth ?3,499),Microsoft O...   \n",
       "2  1 TB 5400 rpm SATA                                                NaN   \n",
       "3  1 TB 5400 rpm SATA  HP Original Laptop Bag (Worth ?1,123),1 Year O...   \n",
       "4  1 TB 5400 rpm SATA  HP Original Laptop Bag (Worth ?1,123),Microsof...   \n",
       "\n",
       "                         os_installed  \\\n",
       "0  Windows 10 Home Single Language 64   \n",
       "1  Windows 10 Home Single Language 64   \n",
       "2  Windows 10 Home Single Language 64   \n",
       "3  Windows 10 Home Single Language 64   \n",
       "4                  Windows 10 Home 64   \n",
       "\n",
       "                                  processor processor_company processor_type  \\\n",
       "0                    AMD Ryzen 5 processor               AMD       Ryzen 5   \n",
       "1  8th Generation Intel® Core i5 processor             Intel             i5   \n",
       "2  7th Generation Intel® Core i3 processor             Intel             i3   \n",
       "3  8th Generation Intel® Core i5 processor             Intel             i5   \n",
       "4  8th Generation Intel® Core i5 processor             Intel             i5   \n",
       "\n",
       "                               ram  rating  \n",
       "0   8 GB DDR4-2400 SDRAM (onboard)  3.6667  \n",
       "1  8 GB DDR4-2666 SDRAM (1 x 8 GB)  5.0000  \n",
       "2  8 GB DDR4-2133 SDRAM (1 x 8 GB)  4.0000  \n",
       "3  8 GB DDR4-2400 SDRAM (1 x 8 GB)  4.0625  \n",
       "4             4 GB DDR4-2400 SDRAM  2.0000  "
      ]
     },
     "execution_count": 9,
     "metadata": {},
     "output_type": "execute_result"
    }
   ],
   "source": [
    "df.head()"
   ]
  },
  {
   "cell_type": "code",
   "execution_count": 10,
   "metadata": {},
   "outputs": [
    {
     "data": {
      "text/plain": [
       "dtype('O')"
      ]
     },
     "execution_count": 10,
     "metadata": {},
     "output_type": "execute_result"
    }
   ],
   "source": [
    "df.actual_price.dtype"
   ]
  },
  {
   "cell_type": "markdown",
   "metadata": {},
   "source": [
    "In the dataframe actual_price,final_price and discount columns should be of numerical datatype but they are of object datatype \n",
    "in the dataframe so function strtoint is definded below which removes the comma in the values and convert them into int datatype"
   ]
  },
  {
   "cell_type": "code",
   "execution_count": 11,
   "metadata": {
    "collapsed": true
   },
   "outputs": [],
   "source": [
    "def strtoint(column):\n",
    "    return column.apply(lambda x:int(x.replace(',','')))"
   ]
  },
  {
   "cell_type": "code",
   "execution_count": 12,
   "metadata": {
    "collapsed": true
   },
   "outputs": [],
   "source": [
    "df['actual_price']=strtoint(df['actual_price'])\n",
    "df['discout']=strtoint(df['discout'])\n",
    "df['final_price']=strtoint(df['final_price'])"
   ]
  },
  {
   "cell_type": "code",
   "execution_count": 13,
   "metadata": {},
   "outputs": [
    {
     "data": {
      "text/html": [
       "<div>\n",
       "<style>\n",
       "    .dataframe thead tr:only-child th {\n",
       "        text-align: right;\n",
       "    }\n",
       "\n",
       "    .dataframe thead th {\n",
       "        text-align: left;\n",
       "    }\n",
       "\n",
       "    .dataframe tbody tr th {\n",
       "        vertical-align: top;\n",
       "    }\n",
       "</style>\n",
       "<table border=\"1\" class=\"dataframe\">\n",
       "  <thead>\n",
       "    <tr style=\"text-align: right;\">\n",
       "      <th></th>\n",
       "      <th>Name</th>\n",
       "      <th>actual_price</th>\n",
       "      <th>discout</th>\n",
       "      <th>final_price</th>\n",
       "      <th>generation</th>\n",
       "      <th>graphic_card</th>\n",
       "      <th>hard_disk</th>\n",
       "      <th>included_items</th>\n",
       "      <th>os_installed</th>\n",
       "      <th>processor</th>\n",
       "      <th>processor_company</th>\n",
       "      <th>processor_type</th>\n",
       "      <th>ram</th>\n",
       "      <th>rating</th>\n",
       "    </tr>\n",
       "  </thead>\n",
       "  <tbody>\n",
       "    <tr>\n",
       "      <th>0</th>\n",
       "      <td>HP ENVY x360 - 13-ag0035au</td>\n",
       "      <td>83496</td>\n",
       "      <td>10506</td>\n",
       "      <td>72990</td>\n",
       "      <td>NaN</td>\n",
       "      <td>AMD Radeon Vega 8 Graphics</td>\n",
       "      <td>256 GB SSD</td>\n",
       "      <td>NaN</td>\n",
       "      <td>Windows 10 Home Single Language 64</td>\n",
       "      <td>AMD Ryzen 5 processor</td>\n",
       "      <td>AMD</td>\n",
       "      <td>Ryzen 5</td>\n",
       "      <td>8 GB DDR4-2400 SDRAM (onboard)</td>\n",
       "      <td>3.6667</td>\n",
       "    </tr>\n",
       "    <tr>\n",
       "      <th>1</th>\n",
       "      <td>HP Gaming Pavilion - 15-cx0140tx</td>\n",
       "      <td>86476</td>\n",
       "      <td>13486</td>\n",
       "      <td>72990</td>\n",
       "      <td>8.0</td>\n",
       "      <td>NVIDIA® GeForce® GTX 1050 (4 GB GDDR5 dedicated)</td>\n",
       "      <td>1 TB 7200 rpm SATA</td>\n",
       "      <td>HP Odyssey backpack (Worth ?3,499),Microsoft O...</td>\n",
       "      <td>Windows 10 Home Single Language 64</td>\n",
       "      <td>8th Generation Intel® Core i5 processor</td>\n",
       "      <td>Intel</td>\n",
       "      <td>i5</td>\n",
       "      <td>8 GB DDR4-2666 SDRAM (1 x 8 GB)</td>\n",
       "      <td>5.0000</td>\n",
       "    </tr>\n",
       "    <tr>\n",
       "      <th>2</th>\n",
       "      <td>HP Notebook - 15-da0435tx</td>\n",
       "      <td>50292</td>\n",
       "      <td>5712</td>\n",
       "      <td>44580</td>\n",
       "      <td>7.0</td>\n",
       "      <td>NVIDIA® GeForce® MX110 (2 GB DDR3 dedicated)</td>\n",
       "      <td>1 TB 5400 rpm SATA</td>\n",
       "      <td>NaN</td>\n",
       "      <td>Windows 10 Home Single Language 64</td>\n",
       "      <td>7th Generation Intel® Core i3 processor</td>\n",
       "      <td>Intel</td>\n",
       "      <td>i3</td>\n",
       "      <td>8 GB DDR4-2133 SDRAM (1 x 8 GB)</td>\n",
       "      <td>4.0000</td>\n",
       "    </tr>\n",
       "    <tr>\n",
       "      <th>3</th>\n",
       "      <td>HP Notebook - 15g-dr0006tx</td>\n",
       "      <td>66137</td>\n",
       "      <td>7146</td>\n",
       "      <td>58991</td>\n",
       "      <td>8.0</td>\n",
       "      <td>NVIDIA® GeForce® MX110 (2 GB DDR3 dedicated)</td>\n",
       "      <td>1 TB 5400 rpm SATA</td>\n",
       "      <td>HP Original Laptop Bag (Worth ?1,123),1 Year O...</td>\n",
       "      <td>Windows 10 Home Single Language 64</td>\n",
       "      <td>8th Generation Intel® Core i5 processor</td>\n",
       "      <td>Intel</td>\n",
       "      <td>i5</td>\n",
       "      <td>8 GB DDR4-2400 SDRAM (1 x 8 GB)</td>\n",
       "      <td>4.0625</td>\n",
       "    </tr>\n",
       "    <tr>\n",
       "      <th>4</th>\n",
       "      <td>HP Notebook 15-da1030tu</td>\n",
       "      <td>50720</td>\n",
       "      <td>3730</td>\n",
       "      <td>46990</td>\n",
       "      <td>8.0</td>\n",
       "      <td>NaN</td>\n",
       "      <td>1 TB 5400 rpm SATA</td>\n",
       "      <td>HP Original Laptop Bag (Worth ?1,123),Microsof...</td>\n",
       "      <td>Windows 10 Home 64</td>\n",
       "      <td>8th Generation Intel® Core i5 processor</td>\n",
       "      <td>Intel</td>\n",
       "      <td>i5</td>\n",
       "      <td>4 GB DDR4-2400 SDRAM</td>\n",
       "      <td>2.0000</td>\n",
       "    </tr>\n",
       "  </tbody>\n",
       "</table>\n",
       "</div>"
      ],
      "text/plain": [
       "                               Name  actual_price  discout  final_price  \\\n",
       "0        HP ENVY x360 - 13-ag0035au         83496    10506        72990   \n",
       "1  HP Gaming Pavilion - 15-cx0140tx         86476    13486        72990   \n",
       "2         HP Notebook - 15-da0435tx         50292     5712        44580   \n",
       "3        HP Notebook - 15g-dr0006tx         66137     7146        58991   \n",
       "4           HP Notebook 15-da1030tu         50720     3730        46990   \n",
       "\n",
       "   generation                                      graphic_card  \\\n",
       "0         NaN                       AMD Radeon Vega 8 Graphics   \n",
       "1         8.0  NVIDIA® GeForce® GTX 1050 (4 GB GDDR5 dedicated)   \n",
       "2         7.0      NVIDIA® GeForce® MX110 (2 GB DDR3 dedicated)   \n",
       "3         8.0      NVIDIA® GeForce® MX110 (2 GB DDR3 dedicated)   \n",
       "4         8.0                                               NaN   \n",
       "\n",
       "            hard_disk                                     included_items  \\\n",
       "0          256 GB SSD                                                NaN   \n",
       "1  1 TB 7200 rpm SATA  HP Odyssey backpack (Worth ?3,499),Microsoft O...   \n",
       "2  1 TB 5400 rpm SATA                                                NaN   \n",
       "3  1 TB 5400 rpm SATA  HP Original Laptop Bag (Worth ?1,123),1 Year O...   \n",
       "4  1 TB 5400 rpm SATA  HP Original Laptop Bag (Worth ?1,123),Microsof...   \n",
       "\n",
       "                         os_installed  \\\n",
       "0  Windows 10 Home Single Language 64   \n",
       "1  Windows 10 Home Single Language 64   \n",
       "2  Windows 10 Home Single Language 64   \n",
       "3  Windows 10 Home Single Language 64   \n",
       "4                  Windows 10 Home 64   \n",
       "\n",
       "                                  processor processor_company processor_type  \\\n",
       "0                    AMD Ryzen 5 processor               AMD       Ryzen 5   \n",
       "1  8th Generation Intel® Core i5 processor             Intel             i5   \n",
       "2  7th Generation Intel® Core i3 processor             Intel             i3   \n",
       "3  8th Generation Intel® Core i5 processor             Intel             i5   \n",
       "4  8th Generation Intel® Core i5 processor             Intel             i5   \n",
       "\n",
       "                               ram  rating  \n",
       "0   8 GB DDR4-2400 SDRAM (onboard)  3.6667  \n",
       "1  8 GB DDR4-2666 SDRAM (1 x 8 GB)  5.0000  \n",
       "2  8 GB DDR4-2133 SDRAM (1 x 8 GB)  4.0000  \n",
       "3  8 GB DDR4-2400 SDRAM (1 x 8 GB)  4.0625  \n",
       "4             4 GB DDR4-2400 SDRAM  2.0000  "
      ]
     },
     "execution_count": 13,
     "metadata": {},
     "output_type": "execute_result"
    }
   ],
   "source": [
    "df.head()"
   ]
  },
  {
   "cell_type": "markdown",
   "metadata": {},
   "source": [
    "The generation column has 32 missing values Let's see the unique values and their frequency details"
   ]
  },
  {
   "cell_type": "code",
   "execution_count": 14,
   "metadata": {},
   "outputs": [
    {
     "data": {
      "text/plain": [
       "8.0    99\n",
       "7.0    29\n",
       "6.0     3\n",
       "Name: generation, dtype: int64"
      ]
     },
     "execution_count": 14,
     "metadata": {},
     "output_type": "execute_result"
    }
   ],
   "source": [
    "df.generation.value_counts()"
   ]
  },
  {
   "cell_type": "markdown",
   "metadata": {},
   "source": [
    "generations are for the Intel core processor series. AMD, Intel pentium series doesn't have generation so replace those with version 1"
   ]
  },
  {
   "cell_type": "code",
   "execution_count": 15,
   "metadata": {},
   "outputs": [
    {
     "data": {
      "text/plain": [
       "0"
      ]
     },
     "execution_count": 15,
     "metadata": {},
     "output_type": "execute_result"
    }
   ],
   "source": [
    "df.generation.fillna('1.0',inplace=True)\n",
    "df.generation.isnull().sum()"
   ]
  },
  {
   "cell_type": "markdown",
   "metadata": {},
   "source": [
    "The column graphic_card has two null values.Let's fill them with mode of that column"
   ]
  },
  {
   "cell_type": "code",
   "execution_count": 16,
   "metadata": {},
   "outputs": [
    {
     "data": {
      "text/plain": [
       "Intel® UHD Graphics 620                                    54\n",
       "Intel® HD Graphics 620                                     19\n",
       "AMD Radeon Pro WX 3100 Graphics (2 GB GDDR5 dedicated)    12\n",
       "NVIDIA® Quadro® P1000 (4 GB GDDR5 dedicated)                8\n",
       "NVIDIA® Quadro® P600 (4 GB GDDR5 dedicated)                 7\n",
       "Name: graphic_card, dtype: int64"
      ]
     },
     "execution_count": 16,
     "metadata": {},
     "output_type": "execute_result"
    }
   ],
   "source": [
    "df.graphic_card.value_counts()[:5]"
   ]
  },
  {
   "cell_type": "code",
   "execution_count": 17,
   "metadata": {},
   "outputs": [
    {
     "data": {
      "text/plain": [
       "0"
      ]
     },
     "execution_count": 17,
     "metadata": {},
     "output_type": "execute_result"
    }
   ],
   "source": [
    "df.graphic_card.fillna(df.graphic_card.mode()[0],inplace=True)\n",
    "df.graphic_card.isnull().sum()"
   ]
  },
  {
   "cell_type": "code",
   "execution_count": 18,
   "metadata": {},
   "outputs": [
    {
     "data": {
      "text/plain": [
       "1 TB 5400 rpm SATA        51\n",
       "1 TB 7200 rpm SATA        16\n",
       "512 GB PCIe® NVMe SSD    13\n",
       "512 GB SSD                13\n",
       "256 GB SSD                11\n",
       "Name: hard_disk, dtype: int64"
      ]
     },
     "execution_count": 18,
     "metadata": {},
     "output_type": "execute_result"
    }
   ],
   "source": [
    "df.hard_disk.value_counts()[:5]"
   ]
  },
  {
   "cell_type": "code",
   "execution_count": 19,
   "metadata": {},
   "outputs": [
    {
     "data": {
      "text/plain": [
       "0"
      ]
     },
     "execution_count": 19,
     "metadata": {},
     "output_type": "execute_result"
    }
   ],
   "source": [
    "df.hard_disk.fillna(df.hard_disk.mode()[0],inplace=True)\n",
    "df.hard_disk.isnull().sum()"
   ]
  },
  {
   "cell_type": "code",
   "execution_count": 20,
   "metadata": {},
   "outputs": [
    {
     "data": {
      "text/plain": [
       "0"
      ]
     },
     "execution_count": 20,
     "metadata": {},
     "output_type": "execute_result"
    }
   ],
   "source": [
    "df.included_items.fillna('Not provided',inplace=True)\n",
    "df.included_items.isnull().sum()"
   ]
  },
  {
   "cell_type": "code",
   "execution_count": 21,
   "metadata": {},
   "outputs": [
    {
     "data": {
      "text/plain": [
       "0"
      ]
     },
     "execution_count": 21,
     "metadata": {},
     "output_type": "execute_result"
    }
   ],
   "source": [
    "df.ram.fillna(df.ram.mode()[0],inplace=True)\n",
    "df.included_items.isnull().sum()"
   ]
  },
  {
   "cell_type": "code",
   "execution_count": 22,
   "metadata": {},
   "outputs": [
    {
     "data": {
      "text/plain": [
       "0"
      ]
     },
     "execution_count": 22,
     "metadata": {},
     "output_type": "execute_result"
    }
   ],
   "source": [
    "df.rating.fillna(df.rating.mean(),inplace=True)\n",
    "df.rating.isnull().sum()"
   ]
  },
  {
   "cell_type": "code",
   "execution_count": 23,
   "metadata": {},
   "outputs": [
    {
     "data": {
      "text/html": [
       "<div>\n",
       "<style>\n",
       "    .dataframe thead tr:only-child th {\n",
       "        text-align: right;\n",
       "    }\n",
       "\n",
       "    .dataframe thead th {\n",
       "        text-align: left;\n",
       "    }\n",
       "\n",
       "    .dataframe tbody tr th {\n",
       "        vertical-align: top;\n",
       "    }\n",
       "</style>\n",
       "<table border=\"1\" class=\"dataframe\">\n",
       "  <thead>\n",
       "    <tr style=\"text-align: right;\">\n",
       "      <th></th>\n",
       "      <th>Name</th>\n",
       "      <th>actual_price</th>\n",
       "      <th>discout</th>\n",
       "      <th>final_price</th>\n",
       "      <th>generation</th>\n",
       "      <th>graphic_card</th>\n",
       "      <th>hard_disk</th>\n",
       "      <th>included_items</th>\n",
       "      <th>os_installed</th>\n",
       "      <th>processor</th>\n",
       "      <th>processor_company</th>\n",
       "      <th>processor_type</th>\n",
       "      <th>ram</th>\n",
       "      <th>rating</th>\n",
       "    </tr>\n",
       "  </thead>\n",
       "  <tbody>\n",
       "    <tr>\n",
       "      <th>40</th>\n",
       "      <td>HP ZBook 15v G5 Mobile Workstation</td>\n",
       "      <td>225937</td>\n",
       "      <td>22095</td>\n",
       "      <td>203842</td>\n",
       "      <td>1.0</td>\n",
       "      <td>NVIDIA® Quadro® P600 (4 GB GDDR5 dedicated)</td>\n",
       "      <td>1 TB 7200 rpm SATA</td>\n",
       "      <td>HP Original Bag  (Worth ?1,499) (#5DD44PA),3 Y...</td>\n",
       "      <td>Windows 10 Pro 64</td>\n",
       "      <td>16 GB DDR4-2666 SDRAM (1 x 16 GB)</td>\n",
       "      <td>NaN</td>\n",
       "      <td>NaN</td>\n",
       "      <td>8 GB DDR4-2400 SDRAM (1 x 8 GB)</td>\n",
       "      <td>1.194378</td>\n",
       "    </tr>\n",
       "    <tr>\n",
       "      <th>41</th>\n",
       "      <td>HP ZBook 15v G5 Mobile Workstation</td>\n",
       "      <td>233611</td>\n",
       "      <td>22861</td>\n",
       "      <td>210750</td>\n",
       "      <td>1.0</td>\n",
       "      <td>NVIDIA® Quadro® P600 (4 GB GDDR5 dedicated)</td>\n",
       "      <td>256 GB SSD</td>\n",
       "      <td>HP Original Bag  (Worth ?1,499) (#5DD44PA),3 Y...</td>\n",
       "      <td>Windows 10 Pro 64</td>\n",
       "      <td>NaN</td>\n",
       "      <td>NaN</td>\n",
       "      <td>NaN</td>\n",
       "      <td>16 GB DDR4-2666 SDRAM (1 x 16 GB)</td>\n",
       "      <td>1.194378</td>\n",
       "    </tr>\n",
       "    <tr>\n",
       "      <th>42</th>\n",
       "      <td>HP ZBook 15v G5 Mobile Workstation</td>\n",
       "      <td>216245</td>\n",
       "      <td>21125</td>\n",
       "      <td>195120</td>\n",
       "      <td>1.0</td>\n",
       "      <td>NVIDIA® Quadro® P600 (4 GB GDDR5 dedicated)</td>\n",
       "      <td>1 TB 7200 rpm SATA</td>\n",
       "      <td>HP Original Bag  (Worth ?1,499) (#5DD44PA),3 Y...</td>\n",
       "      <td>Windows 10 Pro 64</td>\n",
       "      <td>NaN</td>\n",
       "      <td>NaN</td>\n",
       "      <td>NaN</td>\n",
       "      <td>16 GB DDR4-2666 SDRAM (1 x 16 GB)</td>\n",
       "      <td>1.194378</td>\n",
       "    </tr>\n",
       "    <tr>\n",
       "      <th>43</th>\n",
       "      <td>HP ZBook 15v G5 Mobile Workstation</td>\n",
       "      <td>203281</td>\n",
       "      <td>19828</td>\n",
       "      <td>183453</td>\n",
       "      <td>1.0</td>\n",
       "      <td>NVIDIA® Quadro® P600 (4 GB GDDR5 dedicated)</td>\n",
       "      <td>2 TB 5400 rpm SATA</td>\n",
       "      <td>HP Original Bag  (Worth ?1,499) (#5DD44PA),3 Y...</td>\n",
       "      <td>Windows 10 Pro 64</td>\n",
       "      <td>NaN</td>\n",
       "      <td>NaN</td>\n",
       "      <td>NaN</td>\n",
       "      <td>16 GB DDR4-2666 SDRAM (1 x 16 GB)</td>\n",
       "      <td>1.194378</td>\n",
       "    </tr>\n",
       "    <tr>\n",
       "      <th>44</th>\n",
       "      <td>HP ZBook 15v G5 Mobile Workstation</td>\n",
       "      <td>181301</td>\n",
       "      <td>17100</td>\n",
       "      <td>164201</td>\n",
       "      <td>1.0</td>\n",
       "      <td>NVIDIA® Quadro® P600 (4 GB GDDR5 dedicated)</td>\n",
       "      <td>1 TB 7200 rpm SATA</td>\n",
       "      <td>HP Original Bag  (Worth ?1,499) (#5DD44PA),3 Y...</td>\n",
       "      <td>Windows 10 Pro 64</td>\n",
       "      <td>NaN</td>\n",
       "      <td>NaN</td>\n",
       "      <td>NaN</td>\n",
       "      <td>16 GB DDR4-2666 SDRAM (1 x 16 GB)</td>\n",
       "      <td>1.194378</td>\n",
       "    </tr>\n",
       "    <tr>\n",
       "      <th>106</th>\n",
       "      <td>HP ZBook 15 G5 Mobile Workstation</td>\n",
       "      <td>350406</td>\n",
       "      <td>124853</td>\n",
       "      <td>225553</td>\n",
       "      <td>1.0</td>\n",
       "      <td>NVIDIA® Quadro® P2000 (4 GB GDDR5 dedicated)</td>\n",
       "      <td>1 TB 7200 rpm SATA + 512 GB SSD</td>\n",
       "      <td>HP Business Backpack (Worth ?4,200)</td>\n",
       "      <td>Windows 10 Pro 64</td>\n",
       "      <td>NaN</td>\n",
       "      <td>NaN</td>\n",
       "      <td>NaN</td>\n",
       "      <td>16 GB (1x16 GB) DDR4 2666</td>\n",
       "      <td>0.000000</td>\n",
       "    </tr>\n",
       "    <tr>\n",
       "      <th>107</th>\n",
       "      <td>HP ZBook 15 G5 Mobile Workstation</td>\n",
       "      <td>316190</td>\n",
       "      <td>110771</td>\n",
       "      <td>205419</td>\n",
       "      <td>1.0</td>\n",
       "      <td>NVIDIA® Quadro® P1000 (4 GB GDDR5 dedicated)</td>\n",
       "      <td>1 TB 7200 rpm SATA + 128 GB SSD</td>\n",
       "      <td>HP Business Backpack (Worth ?4,200)</td>\n",
       "      <td>Windows 10 Pro 64</td>\n",
       "      <td>NaN</td>\n",
       "      <td>NaN</td>\n",
       "      <td>NaN</td>\n",
       "      <td>8 GB DDR4-2666 SDRAM (1 x 8 GB)</td>\n",
       "      <td>0.000000</td>\n",
       "    </tr>\n",
       "    <tr>\n",
       "      <th>108</th>\n",
       "      <td>HP ZBook 15 G5 Mobile Workstation</td>\n",
       "      <td>240765</td>\n",
       "      <td>83941</td>\n",
       "      <td>156824</td>\n",
       "      <td>1.0</td>\n",
       "      <td>NVIDIA® Quadro® P1000 (4 GB GDDR5 dedicated)</td>\n",
       "      <td>1 TB 7200 rpm SATA</td>\n",
       "      <td>HP Business Backpack (Worth ?4,200)</td>\n",
       "      <td>Windows 10 Pro 64</td>\n",
       "      <td>NaN</td>\n",
       "      <td>NaN</td>\n",
       "      <td>NaN</td>\n",
       "      <td>8 GB DDR4-2666 SDRAM (1 x 8 GB)</td>\n",
       "      <td>0.000000</td>\n",
       "    </tr>\n",
       "    <tr>\n",
       "      <th>109</th>\n",
       "      <td>HP ZBook x2 G4 Detachable Workstation</td>\n",
       "      <td>408283</td>\n",
       "      <td>145897</td>\n",
       "      <td>262386</td>\n",
       "      <td>1.0</td>\n",
       "      <td>NVIDIA® Quadro® M620 (2 GB GDDR5 dedicated)</td>\n",
       "      <td>512 GB SSD</td>\n",
       "      <td>HP Business Backpack (Worth ?4,200)</td>\n",
       "      <td>Windows 10 Pro 64</td>\n",
       "      <td>NaN</td>\n",
       "      <td>NaN</td>\n",
       "      <td>NaN</td>\n",
       "      <td>16 GB DDR4-2133 SDRAM (2 x 8 GB)</td>\n",
       "      <td>0.000000</td>\n",
       "    </tr>\n",
       "    <tr>\n",
       "      <th>110</th>\n",
       "      <td>HP ZBook x2 G4 Detachable Workstation</td>\n",
       "      <td>369052</td>\n",
       "      <td>128360</td>\n",
       "      <td>240692</td>\n",
       "      <td>1.0</td>\n",
       "      <td>NVIDIA® Quadro® M620 (2 GB GDDR5 dedicated)</td>\n",
       "      <td>512 GB SSD</td>\n",
       "      <td>HP Business Backpack (Worth ?4,200)</td>\n",
       "      <td>Windows 10 Pro 64</td>\n",
       "      <td>NaN</td>\n",
       "      <td>NaN</td>\n",
       "      <td>NaN</td>\n",
       "      <td>8 GB DDR4-2133 SDRAM (2 x 4 GB)</td>\n",
       "      <td>0.000000</td>\n",
       "    </tr>\n",
       "    <tr>\n",
       "      <th>111</th>\n",
       "      <td>HP ZBook Studio x360 G5 Convertible Workstation</td>\n",
       "      <td>400665</td>\n",
       "      <td>144380</td>\n",
       "      <td>256285</td>\n",
       "      <td>1.0</td>\n",
       "      <td>NVIDIA® Quadro® P1000 (4 GB GDDR5 dedicated)</td>\n",
       "      <td>1 TB SSD</td>\n",
       "      <td>HP Business Backpack (Worth ?4,200)</td>\n",
       "      <td>Windows 10 Pro 64</td>\n",
       "      <td>NaN</td>\n",
       "      <td>NaN</td>\n",
       "      <td>NaN</td>\n",
       "      <td>16 GB DDR4-2666 SDRAM (1 x 16 GB)</td>\n",
       "      <td>0.000000</td>\n",
       "    </tr>\n",
       "    <tr>\n",
       "      <th>113</th>\n",
       "      <td>HP ZBook Studio G5 Mobile Workstation</td>\n",
       "      <td>254780</td>\n",
       "      <td>89781</td>\n",
       "      <td>164999</td>\n",
       "      <td>1.0</td>\n",
       "      <td>NVIDIA® Quadro® P1000 (4 GB GDDR5 dedicated)</td>\n",
       "      <td>512 GB SSD</td>\n",
       "      <td>HP Business Backpack (Worth ?4,200)</td>\n",
       "      <td>Windows 10 Pro 64</td>\n",
       "      <td>NaN</td>\n",
       "      <td>NaN</td>\n",
       "      <td>NaN</td>\n",
       "      <td>8 GB DDR4-2666 SDRAM (1 x 8 GB)</td>\n",
       "      <td>0.000000</td>\n",
       "    </tr>\n",
       "    <tr>\n",
       "      <th>122</th>\n",
       "      <td>HP ProBook 640 G4 Notebook PC</td>\n",
       "      <td>95603</td>\n",
       "      <td>2830</td>\n",
       "      <td>92773</td>\n",
       "      <td>1.0</td>\n",
       "      <td>Intel® UHD Graphics 620</td>\n",
       "      <td>1 TB 7200 rpm SATA</td>\n",
       "      <td>HP Overnighter Backpack (Worth ?2,499)</td>\n",
       "      <td>8th Generation Intel® Core i5 processor</td>\n",
       "      <td>NaN</td>\n",
       "      <td>NaN</td>\n",
       "      <td>NaN</td>\n",
       "      <td>8 GB DDR4-2400 SDRAM (1 x 8 GB)</td>\n",
       "      <td>0.000000</td>\n",
       "    </tr>\n",
       "    <tr>\n",
       "      <th>123</th>\n",
       "      <td>HP ProBook 640 G4 Notebook PC</td>\n",
       "      <td>106867</td>\n",
       "      <td>3164</td>\n",
       "      <td>103703</td>\n",
       "      <td>1.0</td>\n",
       "      <td>Intel® UHD Graphics 620</td>\n",
       "      <td>1 TB 7200 rpm SATA</td>\n",
       "      <td>HP Overnighter Backpack (Worth ?2,499)</td>\n",
       "      <td>Intel Core i7-8550U Processor</td>\n",
       "      <td>NaN</td>\n",
       "      <td>NaN</td>\n",
       "      <td>NaN</td>\n",
       "      <td>8 GB DDR4-2400 SDRAM (1 x 8 GB)</td>\n",
       "      <td>0.000000</td>\n",
       "    </tr>\n",
       "    <tr>\n",
       "      <th>126</th>\n",
       "      <td>HP ZBook 15u G4 Mobile Workstation</td>\n",
       "      <td>176453</td>\n",
       "      <td>5453</td>\n",
       "      <td>171000</td>\n",
       "      <td>1.0</td>\n",
       "      <td>AMD FirePro W4190M Graphics (2 GB GDDR5 dedic...</td>\n",
       "      <td>1 TB 5400 rpm SATA</td>\n",
       "      <td>Not provided</td>\n",
       "      <td>Windows 10 Pro 64</td>\n",
       "      <td>16 GB DDR4-2133 SDRAM (1 x 16 GB)</td>\n",
       "      <td>NaN</td>\n",
       "      <td>NaN</td>\n",
       "      <td>8 GB DDR4-2400 SDRAM (1 x 8 GB)</td>\n",
       "      <td>0.000000</td>\n",
       "    </tr>\n",
       "    <tr>\n",
       "      <th>146</th>\n",
       "      <td>HP 245 G6</td>\n",
       "      <td>24200</td>\n",
       "      <td>0</td>\n",
       "      <td>24200</td>\n",
       "      <td>1.0</td>\n",
       "      <td>Intel® UHD Graphics 620</td>\n",
       "      <td>1 TB 5400 rpm SATA</td>\n",
       "      <td>Not provided</td>\n",
       "      <td>FreeDOS</td>\n",
       "      <td>BU IDS UMA A9-9425</td>\n",
       "      <td>NaN</td>\n",
       "      <td>NaN</td>\n",
       "      <td>4GB (1x4GB) 1866 DDR4</td>\n",
       "      <td>0.000000</td>\n",
       "    </tr>\n",
       "    <tr>\n",
       "      <th>150</th>\n",
       "      <td>HP ZBook 15u G5 Mobile Workstation</td>\n",
       "      <td>264534</td>\n",
       "      <td>103017</td>\n",
       "      <td>161517</td>\n",
       "      <td>1.0</td>\n",
       "      <td>AMD Radeon Pro WX 3100 Graphics (2 GB GDDR5 d...</td>\n",
       "      <td>512 GB SSD</td>\n",
       "      <td>HP Business Backpack (Worth ?4,200)</td>\n",
       "      <td>Windows 10 Pro 64</td>\n",
       "      <td>NaN</td>\n",
       "      <td>NaN</td>\n",
       "      <td>NaN</td>\n",
       "      <td>16 GB DDR4-2400 SDRAM (1 x 16 GB)</td>\n",
       "      <td>0.000000</td>\n",
       "    </tr>\n",
       "  </tbody>\n",
       "</table>\n",
       "</div>"
      ],
      "text/plain": [
       "                                                Name  actual_price  discout  \\\n",
       "40                HP ZBook 15v G5 Mobile Workstation        225937    22095   \n",
       "41                HP ZBook 15v G5 Mobile Workstation        233611    22861   \n",
       "42                HP ZBook 15v G5 Mobile Workstation        216245    21125   \n",
       "43                HP ZBook 15v G5 Mobile Workstation        203281    19828   \n",
       "44                HP ZBook 15v G5 Mobile Workstation        181301    17100   \n",
       "106                HP ZBook 15 G5 Mobile Workstation        350406   124853   \n",
       "107                HP ZBook 15 G5 Mobile Workstation        316190   110771   \n",
       "108                HP ZBook 15 G5 Mobile Workstation        240765    83941   \n",
       "109            HP ZBook x2 G4 Detachable Workstation        408283   145897   \n",
       "110            HP ZBook x2 G4 Detachable Workstation        369052   128360   \n",
       "111  HP ZBook Studio x360 G5 Convertible Workstation        400665   144380   \n",
       "113            HP ZBook Studio G5 Mobile Workstation        254780    89781   \n",
       "122                    HP ProBook 640 G4 Notebook PC         95603     2830   \n",
       "123                    HP ProBook 640 G4 Notebook PC        106867     3164   \n",
       "126               HP ZBook 15u G4 Mobile Workstation        176453     5453   \n",
       "146                                        HP 245 G6         24200        0   \n",
       "150               HP ZBook 15u G5 Mobile Workstation        264534   103017   \n",
       "\n",
       "     final_price generation  \\\n",
       "40        203842        1.0   \n",
       "41        210750        1.0   \n",
       "42        195120        1.0   \n",
       "43        183453        1.0   \n",
       "44        164201        1.0   \n",
       "106       225553        1.0   \n",
       "107       205419        1.0   \n",
       "108       156824        1.0   \n",
       "109       262386        1.0   \n",
       "110       240692        1.0   \n",
       "111       256285        1.0   \n",
       "113       164999        1.0   \n",
       "122        92773        1.0   \n",
       "123       103703        1.0   \n",
       "126       171000        1.0   \n",
       "146        24200        1.0   \n",
       "150       161517        1.0   \n",
       "\n",
       "                                          graphic_card  \\\n",
       "40         NVIDIA® Quadro® P600 (4 GB GDDR5 dedicated)   \n",
       "41         NVIDIA® Quadro® P600 (4 GB GDDR5 dedicated)   \n",
       "42         NVIDIA® Quadro® P600 (4 GB GDDR5 dedicated)   \n",
       "43         NVIDIA® Quadro® P600 (4 GB GDDR5 dedicated)   \n",
       "44         NVIDIA® Quadro® P600 (4 GB GDDR5 dedicated)   \n",
       "106       NVIDIA® Quadro® P2000 (4 GB GDDR5 dedicated)   \n",
       "107       NVIDIA® Quadro® P1000 (4 GB GDDR5 dedicated)   \n",
       "108       NVIDIA® Quadro® P1000 (4 GB GDDR5 dedicated)   \n",
       "109        NVIDIA® Quadro® M620 (2 GB GDDR5 dedicated)   \n",
       "110        NVIDIA® Quadro® M620 (2 GB GDDR5 dedicated)   \n",
       "111       NVIDIA® Quadro® P1000 (4 GB GDDR5 dedicated)   \n",
       "113       NVIDIA® Quadro® P1000 (4 GB GDDR5 dedicated)   \n",
       "122                            Intel® UHD Graphics 620   \n",
       "123                            Intel® UHD Graphics 620   \n",
       "126  AMD FirePro W4190M Graphics (2 GB GDDR5 dedic...   \n",
       "146                            Intel® UHD Graphics 620   \n",
       "150  AMD Radeon Pro WX 3100 Graphics (2 GB GDDR5 d...   \n",
       "\n",
       "                           hard_disk  \\\n",
       "40                1 TB 7200 rpm SATA   \n",
       "41                        256 GB SSD   \n",
       "42                1 TB 7200 rpm SATA   \n",
       "43                2 TB 5400 rpm SATA   \n",
       "44                1 TB 7200 rpm SATA   \n",
       "106  1 TB 7200 rpm SATA + 512 GB SSD   \n",
       "107  1 TB 7200 rpm SATA + 128 GB SSD   \n",
       "108               1 TB 7200 rpm SATA   \n",
       "109                       512 GB SSD   \n",
       "110                       512 GB SSD   \n",
       "111                         1 TB SSD   \n",
       "113                       512 GB SSD   \n",
       "122               1 TB 7200 rpm SATA   \n",
       "123               1 TB 7200 rpm SATA   \n",
       "126               1 TB 5400 rpm SATA   \n",
       "146               1 TB 5400 rpm SATA   \n",
       "150                       512 GB SSD   \n",
       "\n",
       "                                        included_items  \\\n",
       "40   HP Original Bag  (Worth ?1,499) (#5DD44PA),3 Y...   \n",
       "41   HP Original Bag  (Worth ?1,499) (#5DD44PA),3 Y...   \n",
       "42   HP Original Bag  (Worth ?1,499) (#5DD44PA),3 Y...   \n",
       "43   HP Original Bag  (Worth ?1,499) (#5DD44PA),3 Y...   \n",
       "44   HP Original Bag  (Worth ?1,499) (#5DD44PA),3 Y...   \n",
       "106                HP Business Backpack (Worth ?4,200)   \n",
       "107                HP Business Backpack (Worth ?4,200)   \n",
       "108                HP Business Backpack (Worth ?4,200)   \n",
       "109                HP Business Backpack (Worth ?4,200)   \n",
       "110                HP Business Backpack (Worth ?4,200)   \n",
       "111                HP Business Backpack (Worth ?4,200)   \n",
       "113                HP Business Backpack (Worth ?4,200)   \n",
       "122             HP Overnighter Backpack (Worth ?2,499)   \n",
       "123             HP Overnighter Backpack (Worth ?2,499)   \n",
       "126                                       Not provided   \n",
       "146                                       Not provided   \n",
       "150                HP Business Backpack (Worth ?4,200)   \n",
       "\n",
       "                                 os_installed  \\\n",
       "40                          Windows 10 Pro 64   \n",
       "41                          Windows 10 Pro 64   \n",
       "42                          Windows 10 Pro 64   \n",
       "43                          Windows 10 Pro 64   \n",
       "44                          Windows 10 Pro 64   \n",
       "106                         Windows 10 Pro 64   \n",
       "107                         Windows 10 Pro 64   \n",
       "108                         Windows 10 Pro 64   \n",
       "109                         Windows 10 Pro 64   \n",
       "110                         Windows 10 Pro 64   \n",
       "111                         Windows 10 Pro 64   \n",
       "113                         Windows 10 Pro 64   \n",
       "122  8th Generation Intel® Core i5 processor   \n",
       "123             Intel Core i7-8550U Processor   \n",
       "126                         Windows 10 Pro 64   \n",
       "146                                   FreeDOS   \n",
       "150                         Windows 10 Pro 64   \n",
       "\n",
       "                             processor processor_company processor_type  \\\n",
       "40   16 GB DDR4-2666 SDRAM (1 x 16 GB)               NaN            NaN   \n",
       "41                                 NaN               NaN            NaN   \n",
       "42                                 NaN               NaN            NaN   \n",
       "43                                 NaN               NaN            NaN   \n",
       "44                                 NaN               NaN            NaN   \n",
       "106                                NaN               NaN            NaN   \n",
       "107                                NaN               NaN            NaN   \n",
       "108                                NaN               NaN            NaN   \n",
       "109                                NaN               NaN            NaN   \n",
       "110                                NaN               NaN            NaN   \n",
       "111                                NaN               NaN            NaN   \n",
       "113                                NaN               NaN            NaN   \n",
       "122                                NaN               NaN            NaN   \n",
       "123                                NaN               NaN            NaN   \n",
       "126  16 GB DDR4-2133 SDRAM (1 x 16 GB)               NaN            NaN   \n",
       "146                 BU IDS UMA A9-9425               NaN            NaN   \n",
       "150                                NaN               NaN            NaN   \n",
       "\n",
       "                                   ram    rating  \n",
       "40     8 GB DDR4-2400 SDRAM (1 x 8 GB)  1.194378  \n",
       "41   16 GB DDR4-2666 SDRAM (1 x 16 GB)  1.194378  \n",
       "42   16 GB DDR4-2666 SDRAM (1 x 16 GB)  1.194378  \n",
       "43   16 GB DDR4-2666 SDRAM (1 x 16 GB)  1.194378  \n",
       "44   16 GB DDR4-2666 SDRAM (1 x 16 GB)  1.194378  \n",
       "106          16 GB (1x16 GB) DDR4 2666  0.000000  \n",
       "107    8 GB DDR4-2666 SDRAM (1 x 8 GB)  0.000000  \n",
       "108    8 GB DDR4-2666 SDRAM (1 x 8 GB)  0.000000  \n",
       "109   16 GB DDR4-2133 SDRAM (2 x 8 GB)  0.000000  \n",
       "110    8 GB DDR4-2133 SDRAM (2 x 4 GB)  0.000000  \n",
       "111  16 GB DDR4-2666 SDRAM (1 x 16 GB)  0.000000  \n",
       "113    8 GB DDR4-2666 SDRAM (1 x 8 GB)  0.000000  \n",
       "122    8 GB DDR4-2400 SDRAM (1 x 8 GB)  0.000000  \n",
       "123    8 GB DDR4-2400 SDRAM (1 x 8 GB)  0.000000  \n",
       "126    8 GB DDR4-2400 SDRAM (1 x 8 GB)  0.000000  \n",
       "146              4GB (1x4GB) 1866 DDR4  0.000000  \n",
       "150  16 GB DDR4-2400 SDRAM (1 x 16 GB)  0.000000  "
      ]
     },
     "execution_count": 23,
     "metadata": {},
     "output_type": "execute_result"
    }
   ],
   "source": [
    "df[df.processor_company.isnull()]"
   ]
  },
  {
   "cell_type": "code",
   "execution_count": 24,
   "metadata": {},
   "outputs": [
    {
     "name": "stdout",
     "output_type": "stream",
     "text": [
      "i5\n",
      "8th Generation Intel® Core i5 processor\n",
      "Intel\n"
     ]
    }
   ],
   "source": [
    "print(df.processor_type.mode()[0])\n",
    "print(df.processor.mode()[0])\n",
    "print(df.processor_company.mode()[0])"
   ]
  },
  {
   "cell_type": "code",
   "execution_count": 25,
   "metadata": {
    "collapsed": true
   },
   "outputs": [],
   "source": [
    "df.at[38, 'processor']=df.processor.mode()[0]\n",
    "df.at[120,'processor']=df.processor.mode()[0]\n",
    "df.at[147,'processor']=df.processor.mode()[0]\n",
    "df.processor.fillna(df.processor.mode()[0],inplace=True)\n",
    "df.processor_company.fillna(df.processor_company.mode()[0],inplace=True)\n",
    "df.processor_type.fillna(df.processor_type.mode()[0],inplace=True)"
   ]
  },
  {
   "cell_type": "code",
   "execution_count": 26,
   "metadata": {},
   "outputs": [
    {
     "data": {
      "text/plain": [
       "Name                 0\n",
       "actual_price         0\n",
       "discout              0\n",
       "final_price          0\n",
       "generation           0\n",
       "graphic_card         0\n",
       "hard_disk            0\n",
       "included_items       0\n",
       "os_installed         0\n",
       "processor            0\n",
       "processor_company    0\n",
       "processor_type       0\n",
       "ram                  0\n",
       "rating               0\n",
       "dtype: int64"
      ]
     },
     "execution_count": 26,
     "metadata": {},
     "output_type": "execute_result"
    }
   ],
   "source": [
    "df.isnull().sum()"
   ]
  },
  {
   "cell_type": "markdown",
   "metadata": {},
   "source": [
    "### creating a new column with ram size"
   ]
  },
  {
   "cell_type": "code",
   "execution_count": 27,
   "metadata": {
    "collapsed": true
   },
   "outputs": [],
   "source": [
    "import re\n",
    "def getSize(value):\n",
    "    b=re.findall(r'\\b\\d+',str(value))\n",
    "    if len(b)>0:\n",
    "        return b[0]\n",
    "    return None\n",
    "df['ram_size']=df['ram'].apply(getSize)"
   ]
  },
  {
   "cell_type": "code",
   "execution_count": 28,
   "metadata": {},
   "outputs": [
    {
     "data": {
      "text/plain": [
       "8     86\n",
       "4     44\n",
       "16    32\n",
       "32     1\n",
       "Name: ram_size, dtype: int64"
      ]
     },
     "execution_count": 28,
     "metadata": {},
     "output_type": "execute_result"
    }
   ],
   "source": [
    "df['ram_size'].value_counts()"
   ]
  },
  {
   "cell_type": "code",
   "execution_count": 29,
   "metadata": {},
   "outputs": [
    {
     "data": {
      "text/plain": [
       "0"
      ]
     },
     "execution_count": 29,
     "metadata": {},
     "output_type": "execute_result"
    }
   ],
   "source": [
    "df.ram_size.isnull().sum()"
   ]
  },
  {
   "cell_type": "code",
   "execution_count": 30,
   "metadata": {
    "collapsed": true
   },
   "outputs": [],
   "source": [
    "df.ram_size=df.ram_size.astype('int')"
   ]
  },
  {
   "cell_type": "markdown",
   "metadata": {
    "collapsed": true
   },
   "source": [
    "### creating a new column with hard disk size"
   ]
  },
  {
   "cell_type": "code",
   "execution_count": 31,
   "metadata": {
    "collapsed": true
   },
   "outputs": [],
   "source": [
    "def getSize(value):\n",
    "    p=re.compile(r'\\b\\d+\\s\\w+')\n",
    "    val=p.findall(value)\n",
    "    size=None\n",
    "    if len(val)>0:\n",
    "        size=val[0]\n",
    "        size_val=re.findall(r'\\d+',size)[0]\n",
    "        if 'TB' in size:\n",
    "            size_val=int(size_val)*1024\n",
    "        return size_val\n",
    "    return size"
   ]
  },
  {
   "cell_type": "code",
   "execution_count": 32,
   "metadata": {
    "collapsed": true
   },
   "outputs": [],
   "source": [
    "df['hd_size(GB)']=df.hard_disk.apply(getSize)"
   ]
  },
  {
   "cell_type": "code",
   "execution_count": 33,
   "metadata": {},
   "outputs": [
    {
     "data": {
      "text/plain": [
       "1"
      ]
     },
     "execution_count": 33,
     "metadata": {},
     "output_type": "execute_result"
    }
   ],
   "source": [
    "df['hd_size(GB)'].isnull().sum()"
   ]
  },
  {
   "cell_type": "code",
   "execution_count": 34,
   "metadata": {
    "collapsed": true
   },
   "outputs": [],
   "source": [
    "df['hd_size(GB)'].fillna(df['hd_size(GB)'].mode()[0],inplace=True)"
   ]
  },
  {
   "cell_type": "code",
   "execution_count": 35,
   "metadata": {
    "collapsed": true
   },
   "outputs": [],
   "source": [
    "df['hd_size(GB)']=df['hd_size(GB)'].astype('int')"
   ]
  },
  {
   "cell_type": "code",
   "execution_count": 36,
   "metadata": {},
   "outputs": [
    {
     "data": {
      "text/html": [
       "<div>\n",
       "<style>\n",
       "    .dataframe thead tr:only-child th {\n",
       "        text-align: right;\n",
       "    }\n",
       "\n",
       "    .dataframe thead th {\n",
       "        text-align: left;\n",
       "    }\n",
       "\n",
       "    .dataframe tbody tr th {\n",
       "        vertical-align: top;\n",
       "    }\n",
       "</style>\n",
       "<table border=\"1\" class=\"dataframe\">\n",
       "  <thead>\n",
       "    <tr style=\"text-align: right;\">\n",
       "      <th></th>\n",
       "      <th>Name</th>\n",
       "      <th>actual_price</th>\n",
       "      <th>discout</th>\n",
       "      <th>final_price</th>\n",
       "      <th>generation</th>\n",
       "      <th>graphic_card</th>\n",
       "      <th>hard_disk</th>\n",
       "      <th>included_items</th>\n",
       "      <th>os_installed</th>\n",
       "      <th>processor</th>\n",
       "      <th>processor_company</th>\n",
       "      <th>processor_type</th>\n",
       "      <th>ram</th>\n",
       "      <th>rating</th>\n",
       "      <th>ram_size</th>\n",
       "      <th>hd_size(GB)</th>\n",
       "    </tr>\n",
       "  </thead>\n",
       "  <tbody>\n",
       "    <tr>\n",
       "      <th>0</th>\n",
       "      <td>HP ENVY x360 - 13-ag0035au</td>\n",
       "      <td>83496</td>\n",
       "      <td>10506</td>\n",
       "      <td>72990</td>\n",
       "      <td>1.0</td>\n",
       "      <td>AMD Radeon Vega 8 Graphics</td>\n",
       "      <td>256 GB SSD</td>\n",
       "      <td>Not provided</td>\n",
       "      <td>Windows 10 Home Single Language 64</td>\n",
       "      <td>AMD Ryzen 5 processor</td>\n",
       "      <td>AMD</td>\n",
       "      <td>Ryzen 5</td>\n",
       "      <td>8 GB DDR4-2400 SDRAM (onboard)</td>\n",
       "      <td>3.6667</td>\n",
       "      <td>8</td>\n",
       "      <td>256</td>\n",
       "    </tr>\n",
       "    <tr>\n",
       "      <th>1</th>\n",
       "      <td>HP Gaming Pavilion - 15-cx0140tx</td>\n",
       "      <td>86476</td>\n",
       "      <td>13486</td>\n",
       "      <td>72990</td>\n",
       "      <td>8</td>\n",
       "      <td>NVIDIA® GeForce® GTX 1050 (4 GB GDDR5 dedicated)</td>\n",
       "      <td>1 TB 7200 rpm SATA</td>\n",
       "      <td>HP Odyssey backpack (Worth ?3,499),Microsoft O...</td>\n",
       "      <td>Windows 10 Home Single Language 64</td>\n",
       "      <td>8th Generation Intel® Core i5 processor</td>\n",
       "      <td>Intel</td>\n",
       "      <td>i5</td>\n",
       "      <td>8 GB DDR4-2666 SDRAM (1 x 8 GB)</td>\n",
       "      <td>5.0000</td>\n",
       "      <td>8</td>\n",
       "      <td>1024</td>\n",
       "    </tr>\n",
       "    <tr>\n",
       "      <th>2</th>\n",
       "      <td>HP Notebook - 15-da0435tx</td>\n",
       "      <td>50292</td>\n",
       "      <td>5712</td>\n",
       "      <td>44580</td>\n",
       "      <td>7</td>\n",
       "      <td>NVIDIA® GeForce® MX110 (2 GB DDR3 dedicated)</td>\n",
       "      <td>1 TB 5400 rpm SATA</td>\n",
       "      <td>Not provided</td>\n",
       "      <td>Windows 10 Home Single Language 64</td>\n",
       "      <td>7th Generation Intel® Core i3 processor</td>\n",
       "      <td>Intel</td>\n",
       "      <td>i3</td>\n",
       "      <td>8 GB DDR4-2133 SDRAM (1 x 8 GB)</td>\n",
       "      <td>4.0000</td>\n",
       "      <td>8</td>\n",
       "      <td>1024</td>\n",
       "    </tr>\n",
       "    <tr>\n",
       "      <th>3</th>\n",
       "      <td>HP Notebook - 15g-dr0006tx</td>\n",
       "      <td>66137</td>\n",
       "      <td>7146</td>\n",
       "      <td>58991</td>\n",
       "      <td>8</td>\n",
       "      <td>NVIDIA® GeForce® MX110 (2 GB DDR3 dedicated)</td>\n",
       "      <td>1 TB 5400 rpm SATA</td>\n",
       "      <td>HP Original Laptop Bag (Worth ?1,123),1 Year O...</td>\n",
       "      <td>Windows 10 Home Single Language 64</td>\n",
       "      <td>8th Generation Intel® Core i5 processor</td>\n",
       "      <td>Intel</td>\n",
       "      <td>i5</td>\n",
       "      <td>8 GB DDR4-2400 SDRAM (1 x 8 GB)</td>\n",
       "      <td>4.0625</td>\n",
       "      <td>8</td>\n",
       "      <td>1024</td>\n",
       "    </tr>\n",
       "    <tr>\n",
       "      <th>4</th>\n",
       "      <td>HP Notebook 15-da1030tu</td>\n",
       "      <td>50720</td>\n",
       "      <td>3730</td>\n",
       "      <td>46990</td>\n",
       "      <td>8</td>\n",
       "      <td>Intel® UHD Graphics 620</td>\n",
       "      <td>1 TB 5400 rpm SATA</td>\n",
       "      <td>HP Original Laptop Bag (Worth ?1,123),Microsof...</td>\n",
       "      <td>Windows 10 Home 64</td>\n",
       "      <td>8th Generation Intel® Core i5 processor</td>\n",
       "      <td>Intel</td>\n",
       "      <td>i5</td>\n",
       "      <td>4 GB DDR4-2400 SDRAM</td>\n",
       "      <td>2.0000</td>\n",
       "      <td>4</td>\n",
       "      <td>1024</td>\n",
       "    </tr>\n",
       "  </tbody>\n",
       "</table>\n",
       "</div>"
      ],
      "text/plain": [
       "                               Name  actual_price  discout  final_price  \\\n",
       "0        HP ENVY x360 - 13-ag0035au         83496    10506        72990   \n",
       "1  HP Gaming Pavilion - 15-cx0140tx         86476    13486        72990   \n",
       "2         HP Notebook - 15-da0435tx         50292     5712        44580   \n",
       "3        HP Notebook - 15g-dr0006tx         66137     7146        58991   \n",
       "4           HP Notebook 15-da1030tu         50720     3730        46990   \n",
       "\n",
       "  generation                                      graphic_card  \\\n",
       "0        1.0                       AMD Radeon Vega 8 Graphics   \n",
       "1          8  NVIDIA® GeForce® GTX 1050 (4 GB GDDR5 dedicated)   \n",
       "2          7      NVIDIA® GeForce® MX110 (2 GB DDR3 dedicated)   \n",
       "3          8      NVIDIA® GeForce® MX110 (2 GB DDR3 dedicated)   \n",
       "4          8                           Intel® UHD Graphics 620   \n",
       "\n",
       "            hard_disk                                     included_items  \\\n",
       "0          256 GB SSD                                       Not provided   \n",
       "1  1 TB 7200 rpm SATA  HP Odyssey backpack (Worth ?3,499),Microsoft O...   \n",
       "2  1 TB 5400 rpm SATA                                       Not provided   \n",
       "3  1 TB 5400 rpm SATA  HP Original Laptop Bag (Worth ?1,123),1 Year O...   \n",
       "4  1 TB 5400 rpm SATA  HP Original Laptop Bag (Worth ?1,123),Microsof...   \n",
       "\n",
       "                         os_installed  \\\n",
       "0  Windows 10 Home Single Language 64   \n",
       "1  Windows 10 Home Single Language 64   \n",
       "2  Windows 10 Home Single Language 64   \n",
       "3  Windows 10 Home Single Language 64   \n",
       "4                  Windows 10 Home 64   \n",
       "\n",
       "                                  processor processor_company processor_type  \\\n",
       "0                    AMD Ryzen 5 processor               AMD       Ryzen 5   \n",
       "1  8th Generation Intel® Core i5 processor             Intel             i5   \n",
       "2  7th Generation Intel® Core i3 processor             Intel             i3   \n",
       "3  8th Generation Intel® Core i5 processor             Intel             i5   \n",
       "4  8th Generation Intel® Core i5 processor             Intel             i5   \n",
       "\n",
       "                               ram  rating  ram_size  hd_size(GB)  \n",
       "0   8 GB DDR4-2400 SDRAM (onboard)  3.6667         8          256  \n",
       "1  8 GB DDR4-2666 SDRAM (1 x 8 GB)  5.0000         8         1024  \n",
       "2  8 GB DDR4-2133 SDRAM (1 x 8 GB)  4.0000         8         1024  \n",
       "3  8 GB DDR4-2400 SDRAM (1 x 8 GB)  4.0625         8         1024  \n",
       "4             4 GB DDR4-2400 SDRAM  2.0000         4         1024  "
      ]
     },
     "execution_count": 36,
     "metadata": {},
     "output_type": "execute_result"
    }
   ],
   "source": [
    "df.head()"
   ]
  },
  {
   "cell_type": "code",
   "execution_count": 37,
   "metadata": {},
   "outputs": [
    {
     "data": {
      "text/plain": [
       "Name                 0\n",
       "actual_price         0\n",
       "discout              0\n",
       "final_price          0\n",
       "generation           0\n",
       "graphic_card         0\n",
       "hard_disk            0\n",
       "included_items       0\n",
       "os_installed         0\n",
       "processor            0\n",
       "processor_company    0\n",
       "processor_type       0\n",
       "ram                  0\n",
       "rating               0\n",
       "ram_size             0\n",
       "hd_size(GB)          0\n",
       "dtype: int64"
      ]
     },
     "execution_count": 37,
     "metadata": {},
     "output_type": "execute_result"
    }
   ],
   "source": [
    "df.isnull().sum()"
   ]
  },
  {
   "cell_type": "markdown",
   "metadata": {},
   "source": [
    "### creating a new .csv file"
   ]
  },
  {
   "cell_type": "code",
   "execution_count": 38,
   "metadata": {
    "collapsed": true
   },
   "outputs": [],
   "source": [
    "df.to_csv('Hp_laptops_new.csv')"
   ]
  },
  {
   "cell_type": "markdown",
   "metadata": {},
   "source": [
    "## Exploratory Data Analysis"
   ]
  },
  {
   "cell_type": "code",
   "execution_count": 39,
   "metadata": {},
   "outputs": [
    {
     "data": {
      "text/plain": [
       "<matplotlib.axes._subplots.AxesSubplot at 0x1476f947cf8>"
      ]
     },
     "execution_count": 39,
     "metadata": {},
     "output_type": "execute_result"
    },
    {
     "data": {
      "image/png": "[encoded data removed]",
      "text/plain": [
       "<matplotlib.figure.Figure at 0x1476f96a940>"
      ]
     },
     "metadata": {},
     "output_type": "display_data"
    }
   ],
   "source": [
    "df.actual_price.plot(kind='hist')"
   ]
  },
  {
   "cell_type": "markdown",
   "metadata": {},
   "source": [
    "#### Laptops in the range of 30k-60k with 1 TB hard disk and 8GB ram (Economical range)"
   ]
  },
  {
   "cell_type": "code",
   "execution_count": 40,
   "metadata": {},
   "outputs": [
    {
     "data": {
      "text/html": [
       "<div>\n",
       "<style>\n",
       "    .dataframe thead tr:only-child th {\n",
       "        text-align: right;\n",
       "    }\n",
       "\n",
       "    .dataframe thead th {\n",
       "        text-align: left;\n",
       "    }\n",
       "\n",
       "    .dataframe tbody tr th {\n",
       "        vertical-align: top;\n",
       "    }\n",
       "</style>\n",
       "<table border=\"1\" class=\"dataframe\">\n",
       "  <thead>\n",
       "    <tr style=\"text-align: right;\">\n",
       "      <th></th>\n",
       "      <th>Name</th>\n",
       "      <th>actual_price</th>\n",
       "      <th>discout</th>\n",
       "      <th>final_price</th>\n",
       "      <th>generation</th>\n",
       "      <th>graphic_card</th>\n",
       "      <th>hard_disk</th>\n",
       "      <th>included_items</th>\n",
       "      <th>os_installed</th>\n",
       "      <th>processor</th>\n",
       "      <th>processor_company</th>\n",
       "      <th>processor_type</th>\n",
       "      <th>ram</th>\n",
       "      <th>rating</th>\n",
       "      <th>ram_size</th>\n",
       "      <th>hd_size(GB)</th>\n",
       "    </tr>\n",
       "  </thead>\n",
       "  <tbody>\n",
       "    <tr>\n",
       "      <th>2</th>\n",
       "      <td>HP Notebook - 15-da0435tx</td>\n",
       "      <td>50292</td>\n",
       "      <td>5712</td>\n",
       "      <td>44580</td>\n",
       "      <td>7</td>\n",
       "      <td>NVIDIA® GeForce® MX110 (2 GB DDR3 dedicated)</td>\n",
       "      <td>1 TB 5400 rpm SATA</td>\n",
       "      <td>Not provided</td>\n",
       "      <td>Windows 10 Home Single Language 64</td>\n",
       "      <td>7th Generation Intel® Core i3 processor</td>\n",
       "      <td>Intel</td>\n",
       "      <td>i3</td>\n",
       "      <td>8 GB DDR4-2133 SDRAM (1 x 8 GB)</td>\n",
       "      <td>4.0000</td>\n",
       "      <td>8</td>\n",
       "      <td>1024</td>\n",
       "    </tr>\n",
       "    <tr>\n",
       "      <th>3</th>\n",
       "      <td>HP Notebook - 15g-dr0006tx</td>\n",
       "      <td>66137</td>\n",
       "      <td>7146</td>\n",
       "      <td>58991</td>\n",
       "      <td>8</td>\n",
       "      <td>NVIDIA® GeForce® MX110 (2 GB DDR3 dedicated)</td>\n",
       "      <td>1 TB 5400 rpm SATA</td>\n",
       "      <td>HP Original Laptop Bag (Worth ?1,123),1 Year O...</td>\n",
       "      <td>Windows 10 Home Single Language 64</td>\n",
       "      <td>8th Generation Intel® Core i5 processor</td>\n",
       "      <td>Intel</td>\n",
       "      <td>i5</td>\n",
       "      <td>8 GB DDR4-2400 SDRAM (1 x 8 GB)</td>\n",
       "      <td>4.0625</td>\n",
       "      <td>8</td>\n",
       "      <td>1024</td>\n",
       "    </tr>\n",
       "    <tr>\n",
       "      <th>5</th>\n",
       "      <td>HP Pavilion - 15-cw0027au</td>\n",
       "      <td>70025</td>\n",
       "      <td>10035</td>\n",
       "      <td>59990</td>\n",
       "      <td>1.0</td>\n",
       "      <td>AMD Radeon Vega 8 Graphics</td>\n",
       "      <td>1 TB 5400 rpm SATA + 128 GB SSD</td>\n",
       "      <td>HP Trendsetter Bag (Worth ?2,356)</td>\n",
       "      <td>Windows 10 Home Single Language 64</td>\n",
       "      <td>AMD Ryzen 5 processor</td>\n",
       "      <td>AMD</td>\n",
       "      <td>Ryzen 5</td>\n",
       "      <td>8 GB DDR4-2400 SDRAM (1 x 8 GB)</td>\n",
       "      <td>3.0000</td>\n",
       "      <td>8</td>\n",
       "      <td>1024</td>\n",
       "    </tr>\n",
       "    <tr>\n",
       "      <th>48</th>\n",
       "      <td>HP 348 G4 Notebook PC</td>\n",
       "      <td>55539</td>\n",
       "      <td>2756</td>\n",
       "      <td>52783</td>\n",
       "      <td>7</td>\n",
       "      <td>Intel® HD Graphics 620</td>\n",
       "      <td>1 TB 7200 rpm SATA</td>\n",
       "      <td>HP Original Bag  (Worth ?1,499) (#5DD44PA)</td>\n",
       "      <td>FreeDOS</td>\n",
       "      <td>7th Generation Intel® Core i5 processor</td>\n",
       "      <td>Intel</td>\n",
       "      <td>i5</td>\n",
       "      <td>8 GB DDR4-2133 SDRAM (1 x 8 GB)</td>\n",
       "      <td>5.0000</td>\n",
       "      <td>8</td>\n",
       "      <td>1024</td>\n",
       "    </tr>\n",
       "    <tr>\n",
       "      <th>115</th>\n",
       "      <td>HP Notebook - 15-da0074tx</td>\n",
       "      <td>46010</td>\n",
       "      <td>6516</td>\n",
       "      <td>39494</td>\n",
       "      <td>7</td>\n",
       "      <td>NVIDIA® GeForce® MX110 (2 GB DDR3 dedicated)</td>\n",
       "      <td>1 TB 5400 rpm SATA</td>\n",
       "      <td>HP Original Laptop Bag (Worth ?1,123)</td>\n",
       "      <td>FreeDOS 2.0</td>\n",
       "      <td>7th Generation Intel® Core i3 processor</td>\n",
       "      <td>Intel</td>\n",
       "      <td>i3</td>\n",
       "      <td>8 GB DDR4-2133 SDRAM (1 x 8 GB)</td>\n",
       "      <td>5.0000</td>\n",
       "      <td>8</td>\n",
       "      <td>1024</td>\n",
       "    </tr>\n",
       "    <tr>\n",
       "      <th>117</th>\n",
       "      <td>HP Notebook - 15-da0077tx</td>\n",
       "      <td>57786</td>\n",
       "      <td>7065</td>\n",
       "      <td>50721</td>\n",
       "      <td>8</td>\n",
       "      <td>NVIDIA® GeForce® MX110 (2 GB GDDR5 dedicated)</td>\n",
       "      <td>1 TB 5400 rpm SATA</td>\n",
       "      <td>HP Original Laptop Bag (Worth ?1,123),1 Year O...</td>\n",
       "      <td>FreeDOS 2.0</td>\n",
       "      <td>8th Generation Intel® Core i5 processor</td>\n",
       "      <td>Intel</td>\n",
       "      <td>i5</td>\n",
       "      <td>8 GB DDR4-2400 SDRAM (1 x 8 GB)</td>\n",
       "      <td>5.0000</td>\n",
       "      <td>8</td>\n",
       "      <td>1024</td>\n",
       "    </tr>\n",
       "  </tbody>\n",
       "</table>\n",
       "</div>"
      ],
      "text/plain": [
       "                           Name  actual_price  discout  final_price  \\\n",
       "2     HP Notebook - 15-da0435tx         50292     5712        44580   \n",
       "3    HP Notebook - 15g-dr0006tx         66137     7146        58991   \n",
       "5     HP Pavilion - 15-cw0027au         70025    10035        59990   \n",
       "48        HP 348 G4 Notebook PC         55539     2756        52783   \n",
       "115   HP Notebook - 15-da0074tx         46010     6516        39494   \n",
       "117   HP Notebook - 15-da0077tx         57786     7065        50721   \n",
       "\n",
       "    generation                                   graphic_card  \\\n",
       "2            7   NVIDIA® GeForce® MX110 (2 GB DDR3 dedicated)   \n",
       "3            8   NVIDIA® GeForce® MX110 (2 GB DDR3 dedicated)   \n",
       "5          1.0                    AMD Radeon Vega 8 Graphics   \n",
       "48           7                         Intel® HD Graphics 620   \n",
       "115          7   NVIDIA® GeForce® MX110 (2 GB DDR3 dedicated)   \n",
       "117          8  NVIDIA® GeForce® MX110 (2 GB GDDR5 dedicated)   \n",
       "\n",
       "                           hard_disk  \\\n",
       "2                 1 TB 5400 rpm SATA   \n",
       "3                 1 TB 5400 rpm SATA   \n",
       "5    1 TB 5400 rpm SATA + 128 GB SSD   \n",
       "48                1 TB 7200 rpm SATA   \n",
       "115               1 TB 5400 rpm SATA   \n",
       "117               1 TB 5400 rpm SATA   \n",
       "\n",
       "                                        included_items  \\\n",
       "2                                         Not provided   \n",
       "3    HP Original Laptop Bag (Worth ?1,123),1 Year O...   \n",
       "5                    HP Trendsetter Bag (Worth ?2,356)   \n",
       "48          HP Original Bag  (Worth ?1,499) (#5DD44PA)   \n",
       "115              HP Original Laptop Bag (Worth ?1,123)   \n",
       "117  HP Original Laptop Bag (Worth ?1,123),1 Year O...   \n",
       "\n",
       "                           os_installed  \\\n",
       "2    Windows 10 Home Single Language 64   \n",
       "3    Windows 10 Home Single Language 64   \n",
       "5    Windows 10 Home Single Language 64   \n",
       "48                              FreeDOS   \n",
       "115                         FreeDOS 2.0   \n",
       "117                         FreeDOS 2.0   \n",
       "\n",
       "                                    processor processor_company  \\\n",
       "2    7th Generation Intel® Core i3 processor             Intel   \n",
       "3    8th Generation Intel® Core i5 processor             Intel   \n",
       "5                      AMD Ryzen 5 processor               AMD   \n",
       "48   7th Generation Intel® Core i5 processor             Intel   \n",
       "115  7th Generation Intel® Core i3 processor             Intel   \n",
       "117  8th Generation Intel® Core i5 processor             Intel   \n",
       "\n",
       "    processor_type                              ram  rating  ram_size  \\\n",
       "2               i3  8 GB DDR4-2133 SDRAM (1 x 8 GB)  4.0000         8   \n",
       "3               i5  8 GB DDR4-2400 SDRAM (1 x 8 GB)  4.0625         8   \n",
       "5         Ryzen 5  8 GB DDR4-2400 SDRAM (1 x 8 GB)  3.0000         8   \n",
       "48              i5  8 GB DDR4-2133 SDRAM (1 x 8 GB)  5.0000         8   \n",
       "115             i3  8 GB DDR4-2133 SDRAM (1 x 8 GB)  5.0000         8   \n",
       "117             i5  8 GB DDR4-2400 SDRAM (1 x 8 GB)  5.0000         8   \n",
       "\n",
       "     hd_size(GB)  \n",
       "2           1024  \n",
       "3           1024  \n",
       "5           1024  \n",
       "48          1024  \n",
       "115         1024  \n",
       "117         1024  "
      ]
     },
     "execution_count": 40,
     "metadata": {},
     "output_type": "execute_result"
    }
   ],
   "source": [
    "df[(df.final_price>30000)&(df.final_price<60000) & (df['hd_size(GB)']==1024) & (df['ram_size']==8)]"
   ]
  },
  {
   "cell_type": "markdown",
   "metadata": {},
   "source": [
    "### which processor is used more"
   ]
  },
  {
   "cell_type": "code",
   "execution_count": 41,
   "metadata": {},
   "outputs": [
    {
     "data": {
      "text/plain": [
       "<matplotlib.axes._subplots.AxesSubplot at 0x1476fe8ae80>"
      ]
     },
     "execution_count": 41,
     "metadata": {},
     "output_type": "execute_result"
    },
    {
     "data": {
      "image/png": "[encoded data removed]",
      "text/plain": [
       "<matplotlib.figure.Figure at 0x1476f96a6d8>"
      ]
     },
     "metadata": {},
     "output_type": "display_data"
    }
   ],
   "source": [
    "df.processor_company.value_counts().plot(kind='bar')"
   ]
  },
  {
   "cell_type": "markdown",
   "metadata": {},
   "source": [
    "Intel company processor is used more"
   ]
  },
  {
   "cell_type": "markdown",
   "metadata": {},
   "source": [
    "### which processor is mostly used"
   ]
  },
  {
   "cell_type": "code",
   "execution_count": 42,
   "metadata": {},
   "outputs": [
    {
     "data": {
      "text/plain": [
       "<matplotlib.axes._subplots.AxesSubplot at 0x1476ffea390>"
      ]
     },
     "execution_count": 42,
     "metadata": {},
     "output_type": "execute_result"
    },
    {
     "data": {
      "image/png": "[encoded data removed]",
      "text/plain": [
       "<matplotlib.figure.Figure at 0x1476fff7470>"
      ]
     },
     "metadata": {},
     "output_type": "display_data"
    }
   ],
   "source": [
    "df.processor.value_counts().plot(kind='bar')"
   ]
  },
  {
   "cell_type": "code",
   "execution_count": 43,
   "metadata": {},
   "outputs": [
    {
     "data": {
      "text/html": [
       "<div>\n",
       "<style>\n",
       "    .dataframe thead tr:only-child th {\n",
       "        text-align: right;\n",
       "    }\n",
       "\n",
       "    .dataframe thead th {\n",
       "        text-align: left;\n",
       "    }\n",
       "\n",
       "    .dataframe tbody tr th {\n",
       "        vertical-align: top;\n",
       "    }\n",
       "</style>\n",
       "<table border=\"1\" class=\"dataframe\">\n",
       "  <thead>\n",
       "    <tr style=\"text-align: right;\">\n",
       "      <th></th>\n",
       "      <th>actual_price</th>\n",
       "      <th>discout</th>\n",
       "      <th>final_price</th>\n",
       "      <th>rating</th>\n",
       "      <th>ram_size</th>\n",
       "      <th>hd_size(GB)</th>\n",
       "    </tr>\n",
       "    <tr>\n",
       "      <th>processor_company</th>\n",
       "      <th></th>\n",
       "      <th></th>\n",
       "      <th></th>\n",
       "      <th></th>\n",
       "      <th></th>\n",
       "      <th></th>\n",
       "    </tr>\n",
       "  </thead>\n",
       "  <tbody>\n",
       "    <tr>\n",
       "      <th>AMD</th>\n",
       "      <td>57390.000000</td>\n",
       "      <td>2974.181818</td>\n",
       "      <td>54415.818182</td>\n",
       "      <td>1.712127</td>\n",
       "      <td>5.818182</td>\n",
       "      <td>625.454545</td>\n",
       "    </tr>\n",
       "    <tr>\n",
       "      <th>Intel</th>\n",
       "      <td>134072.809211</td>\n",
       "      <td>22852.592105</td>\n",
       "      <td>111220.217105</td>\n",
       "      <td>1.156910</td>\n",
       "      <td>8.842105</td>\n",
       "      <td>796.894737</td>\n",
       "    </tr>\n",
       "  </tbody>\n",
       "</table>\n",
       "</div>"
      ],
      "text/plain": [
       "                    actual_price       discout    final_price    rating  \\\n",
       "processor_company                                                         \n",
       "AMD                 57390.000000   2974.181818   54415.818182  1.712127   \n",
       "Intel              134072.809211  22852.592105  111220.217105  1.156910   \n",
       "\n",
       "                   ram_size  hd_size(GB)  \n",
       "processor_company                         \n",
       "AMD                5.818182   625.454545  \n",
       "Intel              8.842105   796.894737  "
      ]
     },
     "execution_count": 43,
     "metadata": {},
     "output_type": "execute_result"
    }
   ],
   "source": [
    "df.groupby(['processor_company']).mean()"
   ]
  },
  {
   "cell_type": "markdown",
   "metadata": {},
   "source": [
    "### which os is mostly used"
   ]
  },
  {
   "cell_type": "code",
   "execution_count": 44,
   "metadata": {},
   "outputs": [
    {
     "data": {
      "text/plain": [
       "Windows 10 Pro 64                                                     85\n",
       "Windows 10 Home Single Language 64                                    43\n",
       "FreeDOS 2.0                                                           13\n",
       "Chrome OS 64                                                          5\n",
       "Windows 10 Home 64                                                     3\n",
       "Windows 10 Home Single Language 64  HP recommends Windows 10 Pro.     3\n",
       "FreeDOS                                                                2\n",
       "Windows 10 Pro 64  HP recommends Windows 10 Pro.                      2\n",
       "Free DOS                                                               1\n",
       "FreeDos 2.0                                                            1\n",
       "Windows 7 Professional 64                                              1\n",
       "FreeDOS 3.0                                                            1\n",
       "8th Generation Intel® Core i5 processor                               1\n",
       "Windows 10 Pro                                                         1\n",
       "Intel Core i7-8550U Processor                                          1\n",
       "Name: os_installed, dtype: int64"
      ]
     },
     "execution_count": 44,
     "metadata": {},
     "output_type": "execute_result"
    }
   ],
   "source": [
    "df.os_installed.value_counts()"
   ]
  },
  {
   "cell_type": "code",
   "execution_count": 45,
   "metadata": {},
   "outputs": [
    {
     "data": {
      "text/plain": [
       "<matplotlib.axes._subplots.AxesSubplot at 0x147700539b0>"
      ]
     },
     "execution_count": 45,
     "metadata": {},
     "output_type": "execute_result"
    },
    {
     "data": {
      "image/png": "[encoded data removed]",
      "text/plain": [
       "<matplotlib.figure.Figure at 0x147700ce7f0>"
      ]
     },
     "metadata": {},
     "output_type": "display_data"
    }
   ],
   "source": [
    "df.os_installed.value_counts().plot(kind='bar')"
   ]
  },
  {
   "cell_type": "markdown",
   "metadata": {},
   "source": [
    "### Does ram size effects price"
   ]
  },
  {
   "cell_type": "code",
   "execution_count": 46,
   "metadata": {},
   "outputs": [
    {
     "data": {
      "text/plain": [
       "0.76195099638699681"
      ]
     },
     "execution_count": 46,
     "metadata": {},
     "output_type": "execute_result"
    }
   ],
   "source": [
    "df.ram_size.corr(df.actual_price)"
   ]
  },
  {
   "cell_type": "markdown",
   "metadata": {},
   "source": [
    "#### Those two columns have a good correlation"
   ]
  },
  {
   "cell_type": "code",
   "execution_count": 47,
   "metadata": {},
   "outputs": [
    {
     "data": {
      "text/plain": [
       "<matplotlib.axes._subplots.AxesSubplot at 0x14771156f98>"
      ]
     },
     "execution_count": 47,
     "metadata": {},
     "output_type": "execute_result"
    },
    {
     "data": {
      "image/png": "[encoded data removed]",
      "text/plain": [
       "<matplotlib.figure.Figure at 0x1477116d518>"
      ]
     },
     "metadata": {},
     "output_type": "display_data"
    }
   ],
   "source": [
    "df.ram_size.value_counts().plot(kind='pie')"
   ]
  },
  {
   "cell_type": "code",
   "execution_count": 48,
   "metadata": {},
   "outputs": [
    {
     "data": {
      "text/plain": [
       "<matplotlib.axes._subplots.AxesSubplot at 0x14771176668>"
      ]
     },
     "execution_count": 48,
     "metadata": {},
     "output_type": "execute_result"
    },
    {
     "data": {
      "image/png": "[encoded data removed]",
      "text/plain": [
       "<matplotlib.figure.Figure at 0x1477118fcc0>"
      ]
     },
     "metadata": {},
     "output_type": "display_data"
    }
   ],
   "source": [
    "df.hard_disk.value_counts().plot(kind='bar')"
   ]
  },
  {
   "cell_type": "code",
   "execution_count": 49,
   "metadata": {},
   "outputs": [
    {
     "data": {
      "text/html": [
       "<div>\n",
       "<style>\n",
       "    .dataframe thead tr:only-child th {\n",
       "        text-align: right;\n",
       "    }\n",
       "\n",
       "    .dataframe thead th {\n",
       "        text-align: left;\n",
       "    }\n",
       "\n",
       "    .dataframe tbody tr th {\n",
       "        vertical-align: top;\n",
       "    }\n",
       "</style>\n",
       "<table border=\"1\" class=\"dataframe\">\n",
       "  <thead>\n",
       "    <tr style=\"text-align: right;\">\n",
       "      <th></th>\n",
       "      <th>actual_price</th>\n",
       "      <th>discout</th>\n",
       "      <th>final_price</th>\n",
       "      <th>rating</th>\n",
       "      <th>ram_size</th>\n",
       "      <th>hd_size(GB)</th>\n",
       "    </tr>\n",
       "  </thead>\n",
       "  <tbody>\n",
       "    <tr>\n",
       "      <th>actual_price</th>\n",
       "      <td>1.000000</td>\n",
       "      <td>0.856027</td>\n",
       "      <td>0.956428</td>\n",
       "      <td>-0.237846</td>\n",
       "      <td>0.761951</td>\n",
       "      <td>-0.124959</td>\n",
       "    </tr>\n",
       "    <tr>\n",
       "      <th>discout</th>\n",
       "      <td>0.856027</td>\n",
       "      <td>1.000000</td>\n",
       "      <td>0.667800</td>\n",
       "      <td>-0.233100</td>\n",
       "      <td>0.498787</td>\n",
       "      <td>-0.133535</td>\n",
       "    </tr>\n",
       "    <tr>\n",
       "      <th>final_price</th>\n",
       "      <td>0.956428</td>\n",
       "      <td>0.667800</td>\n",
       "      <td>1.000000</td>\n",
       "      <td>-0.210822</td>\n",
       "      <td>0.815429</td>\n",
       "      <td>-0.104509</td>\n",
       "    </tr>\n",
       "    <tr>\n",
       "      <th>rating</th>\n",
       "      <td>-0.237846</td>\n",
       "      <td>-0.233100</td>\n",
       "      <td>-0.210822</td>\n",
       "      <td>1.000000</td>\n",
       "      <td>-0.033313</td>\n",
       "      <td>0.152389</td>\n",
       "    </tr>\n",
       "    <tr>\n",
       "      <th>ram_size</th>\n",
       "      <td>0.761951</td>\n",
       "      <td>0.498787</td>\n",
       "      <td>0.815429</td>\n",
       "      <td>-0.033313</td>\n",
       "      <td>1.000000</td>\n",
       "      <td>-0.032704</td>\n",
       "    </tr>\n",
       "    <tr>\n",
       "      <th>hd_size(GB)</th>\n",
       "      <td>-0.124959</td>\n",
       "      <td>-0.133535</td>\n",
       "      <td>-0.104509</td>\n",
       "      <td>0.152389</td>\n",
       "      <td>-0.032704</td>\n",
       "      <td>1.000000</td>\n",
       "    </tr>\n",
       "  </tbody>\n",
       "</table>\n",
       "</div>"
      ],
      "text/plain": [
       "              actual_price   discout  final_price    rating  ram_size  \\\n",
       "actual_price      1.000000  0.856027     0.956428 -0.237846  0.761951   \n",
       "discout           0.856027  1.000000     0.667800 -0.233100  0.498787   \n",
       "final_price       0.956428  0.667800     1.000000 -0.210822  0.815429   \n",
       "rating           -0.237846 -0.233100    -0.210822  1.000000 -0.033313   \n",
       "ram_size          0.761951  0.498787     0.815429 -0.033313  1.000000   \n",
       "hd_size(GB)      -0.124959 -0.133535    -0.104509  0.152389 -0.032704   \n",
       "\n",
       "              hd_size(GB)  \n",
       "actual_price    -0.124959  \n",
       "discout         -0.133535  \n",
       "final_price     -0.104509  \n",
       "rating           0.152389  \n",
       "ram_size        -0.032704  \n",
       "hd_size(GB)      1.000000  "
      ]
     },
     "execution_count": 49,
     "metadata": {},
     "output_type": "execute_result"
    }
   ],
   "source": [
    "df.corr()"
   ]
  },
  {
   "cell_type": "code",
   "execution_count": 50,
   "metadata": {},
   "outputs": [
    {
     "data": {
      "text/html": [
       "<div>\n",
       "<style>\n",
       "    .dataframe thead tr:only-child th {\n",
       "        text-align: right;\n",
       "    }\n",
       "\n",
       "    .dataframe thead th {\n",
       "        text-align: left;\n",
       "    }\n",
       "\n",
       "    .dataframe tbody tr th {\n",
       "        vertical-align: top;\n",
       "    }\n",
       "</style>\n",
       "<table border=\"1\" class=\"dataframe\">\n",
       "  <thead>\n",
       "    <tr style=\"text-align: right;\">\n",
       "      <th></th>\n",
       "      <th>actual_price</th>\n",
       "      <th>discout</th>\n",
       "      <th>final_price</th>\n",
       "      <th>rating</th>\n",
       "      <th>ram_size</th>\n",
       "      <th>hd_size(GB)</th>\n",
       "    </tr>\n",
       "  </thead>\n",
       "  <tbody>\n",
       "    <tr>\n",
       "      <th>count</th>\n",
       "      <td>163.000000</td>\n",
       "      <td>163.000000</td>\n",
       "      <td>163.000000</td>\n",
       "      <td>163.000000</td>\n",
       "      <td>163.000000</td>\n",
       "      <td>163.000000</td>\n",
       "    </tr>\n",
       "    <tr>\n",
       "      <th>mean</th>\n",
       "      <td>128897.895706</td>\n",
       "      <td>21511.104294</td>\n",
       "      <td>107386.791411</td>\n",
       "      <td>1.194378</td>\n",
       "      <td>8.638037</td>\n",
       "      <td>785.325153</td>\n",
       "    </tr>\n",
       "    <tr>\n",
       "      <th>std</th>\n",
       "      <td>100316.252958</td>\n",
       "      <td>39349.265400</td>\n",
       "      <td>69667.796932</td>\n",
       "      <td>1.831696</td>\n",
       "      <td>4.487049</td>\n",
       "      <td>511.257767</td>\n",
       "    </tr>\n",
       "    <tr>\n",
       "      <th>min</th>\n",
       "      <td>20999.000000</td>\n",
       "      <td>0.000000</td>\n",
       "      <td>20999.000000</td>\n",
       "      <td>0.000000</td>\n",
       "      <td>4.000000</td>\n",
       "      <td>16.000000</td>\n",
       "    </tr>\n",
       "    <tr>\n",
       "      <th>25%</th>\n",
       "      <td>61889.500000</td>\n",
       "      <td>1886.000000</td>\n",
       "      <td>58016.000000</td>\n",
       "      <td>0.000000</td>\n",
       "      <td>4.000000</td>\n",
       "      <td>512.000000</td>\n",
       "    </tr>\n",
       "    <tr>\n",
       "      <th>50%</th>\n",
       "      <td>88742.000000</td>\n",
       "      <td>3286.000000</td>\n",
       "      <td>84390.000000</td>\n",
       "      <td>0.000000</td>\n",
       "      <td>8.000000</td>\n",
       "      <td>1024.000000</td>\n",
       "    </tr>\n",
       "    <tr>\n",
       "      <th>75%</th>\n",
       "      <td>173869.500000</td>\n",
       "      <td>11370.000000</td>\n",
       "      <td>146606.000000</td>\n",
       "      <td>2.235350</td>\n",
       "      <td>8.000000</td>\n",
       "      <td>1024.000000</td>\n",
       "    </tr>\n",
       "    <tr>\n",
       "      <th>max</th>\n",
       "      <td>667152.000000</td>\n",
       "      <td>224481.000000</td>\n",
       "      <td>442671.000000</td>\n",
       "      <td>5.000000</td>\n",
       "      <td>32.000000</td>\n",
       "      <td>5400.000000</td>\n",
       "    </tr>\n",
       "  </tbody>\n",
       "</table>\n",
       "</div>"
      ],
      "text/plain": [
       "        actual_price        discout    final_price      rating    ram_size  \\\n",
       "count     163.000000     163.000000     163.000000  163.000000  163.000000   \n",
       "mean   128897.895706   21511.104294  107386.791411    1.194378    8.638037   \n",
       "std    100316.252958   39349.265400   69667.796932    1.831696    4.487049   \n",
       "min     20999.000000       0.000000   20999.000000    0.000000    4.000000   \n",
       "25%     61889.500000    1886.000000   58016.000000    0.000000    4.000000   \n",
       "50%     88742.000000    3286.000000   84390.000000    0.000000    8.000000   \n",
       "75%    173869.500000   11370.000000  146606.000000    2.235350    8.000000   \n",
       "max    667152.000000  224481.000000  442671.000000    5.000000   32.000000   \n",
       "\n",
       "       hd_size(GB)  \n",
       "count   163.000000  \n",
       "mean    785.325153  \n",
       "std     511.257767  \n",
       "min      16.000000  \n",
       "25%     512.000000  \n",
       "50%    1024.000000  \n",
       "75%    1024.000000  \n",
       "max    5400.000000  "
      ]
     },
     "execution_count": 50,
     "metadata": {},
     "output_type": "execute_result"
    }
   ],
   "source": [
    "df.describe()"
   ]
  },
  {
   "cell_type": "code",
   "execution_count": 51,
   "metadata": {},
   "outputs": [
    {
     "data": {
      "text/html": [
       "<div>\n",
       "<style>\n",
       "    .dataframe thead tr:only-child th {\n",
       "        text-align: right;\n",
       "    }\n",
       "\n",
       "    .dataframe thead th {\n",
       "        text-align: left;\n",
       "    }\n",
       "\n",
       "    .dataframe tbody tr th {\n",
       "        vertical-align: top;\n",
       "    }\n",
       "</style>\n",
       "<table border=\"1\" class=\"dataframe\">\n",
       "  <thead>\n",
       "    <tr style=\"text-align: right;\">\n",
       "      <th></th>\n",
       "      <th>count</th>\n",
       "      <th>unique</th>\n",
       "      <th>top</th>\n",
       "      <th>freq</th>\n",
       "    </tr>\n",
       "  </thead>\n",
       "  <tbody>\n",
       "    <tr>\n",
       "      <th>Name</th>\n",
       "      <td>163</td>\n",
       "      <td>93</td>\n",
       "      <td>HP ZBook 15u G5 Mobile Workstation</td>\n",
       "      <td>9</td>\n",
       "    </tr>\n",
       "    <tr>\n",
       "      <th>generation</th>\n",
       "      <td>163</td>\n",
       "      <td>4</td>\n",
       "      <td>8</td>\n",
       "      <td>99</td>\n",
       "    </tr>\n",
       "    <tr>\n",
       "      <th>graphic_card</th>\n",
       "      <td>163</td>\n",
       "      <td>38</td>\n",
       "      <td>Intel® UHD Graphics 620</td>\n",
       "      <td>56</td>\n",
       "    </tr>\n",
       "    <tr>\n",
       "      <th>hard_disk</th>\n",
       "      <td>163</td>\n",
       "      <td>31</td>\n",
       "      <td>1 TB 5400 rpm SATA</td>\n",
       "      <td>53</td>\n",
       "    </tr>\n",
       "    <tr>\n",
       "      <th>included_items</th>\n",
       "      <td>163</td>\n",
       "      <td>23</td>\n",
       "      <td>Not provided</td>\n",
       "      <td>32</td>\n",
       "    </tr>\n",
       "    <tr>\n",
       "      <th>os_installed</th>\n",
       "      <td>163</td>\n",
       "      <td>15</td>\n",
       "      <td>Windows 10 Pro 64</td>\n",
       "      <td>85</td>\n",
       "    </tr>\n",
       "    <tr>\n",
       "      <th>processor</th>\n",
       "      <td>163</td>\n",
       "      <td>30</td>\n",
       "      <td>8th Generation Intel® Core i5 processor</td>\n",
       "      <td>58</td>\n",
       "    </tr>\n",
       "    <tr>\n",
       "      <th>processor_company</th>\n",
       "      <td>163</td>\n",
       "      <td>2</td>\n",
       "      <td>Intel</td>\n",
       "      <td>152</td>\n",
       "    </tr>\n",
       "    <tr>\n",
       "      <th>processor_type</th>\n",
       "      <td>163</td>\n",
       "      <td>16</td>\n",
       "      <td>i5</td>\n",
       "      <td>73</td>\n",
       "    </tr>\n",
       "    <tr>\n",
       "      <th>ram</th>\n",
       "      <td>163</td>\n",
       "      <td>33</td>\n",
       "      <td>8 GB DDR4-2400 SDRAM (1 x 8 GB)</td>\n",
       "      <td>56</td>\n",
       "    </tr>\n",
       "  </tbody>\n",
       "</table>\n",
       "</div>"
      ],
      "text/plain": [
       "                  count unique                                       top freq\n",
       "Name                163     93        HP ZBook 15u G5 Mobile Workstation    9\n",
       "generation          163      4                                         8   99\n",
       "graphic_card        163     38                   Intel® UHD Graphics 620   56\n",
       "hard_disk           163     31                        1 TB 5400 rpm SATA   53\n",
       "included_items      163     23                              Not provided   32\n",
       "os_installed        163     15                         Windows 10 Pro 64   85\n",
       "processor           163     30  8th Generation Intel® Core i5 processor   58\n",
       "processor_company   163      2                                     Intel  152\n",
       "processor_type      163     16                                        i5   73\n",
       "ram                 163     33           8 GB DDR4-2400 SDRAM (1 x 8 GB)   56"
      ]
     },
     "execution_count": 51,
     "metadata": {},
     "output_type": "execute_result"
    }
   ],
   "source": [
    "df.describe(include=[np.object]).transpose()"
   ]
  },
  {
   "cell_type": "code",
   "execution_count": 52,
   "metadata": {},
   "outputs": [
    {
     "name": "stdout",
     "output_type": "stream",
     "text": [
      "['HP Pavilion 14-ce1003tx' 'HP EliteBook x360 1030 G3 Notebook PC'\n",
      " 'HP EliteBook 830 G5 Notebook PC' 'HP EliteBook 840r G4 Notebook PC'\n",
      " 'HP ProBook x360 440 G1 Notebook PC' 'HP ZBook 15v G5 Mobile Workstation'\n",
      " 'OMEN by HP - 15-dc0084tx' 'HP EliteBook x360 1030 G2'\n",
      " 'HP EliteBook 1040 G4 Notebook PC'\n",
      " 'HP EliteBook x360 1030 G2 (ENERGY STAR)' 'HP ProBook 430 G6 Notebook PC'\n",
      " 'HP ZBook 15u G5 Mobile Workstation' 'HP Pavilion x360 14-dh0045tx'\n",
      " 'HP ZBook 14u G5 Mobile Workstation' 'HP Spectre x360 - 13-ap0122tu'\n",
      " 'HP Spectre x360 - 13-ap0121tu' 'HP Spectre x360 - 13-ap0102tu'\n",
      " 'HP Spectre x360 - 13-ap0101tu' 'HP Spectre x360 - 13-ap0100tu'\n",
      " 'HP ZBook 17 G5 Mobile Workstation' 'HP EliteBook 735 G5 Notebook PC'\n",
      " 'HP EliteBook 1050 G1 Notebook PC' 'HP ZBook Studio G5 Mobile Workstation'\n",
      " 'HP ZBook 15 G5 Mobile Workstation'\n",
      " 'HP ZBook x2 G4 Detachable Workstation'\n",
      " 'HP ZBook Studio x360 G5 Convertible Workstation' 'HP ENVY - 13-ah0044tx'\n",
      " 'HP ProBook 640 G4 Notebook PC' 'HP ZBook 15u G4 Mobile Workstation'\n",
      " 'HP Elite x2 1012 G1 Tablet (ENERGY STAR)' 'OMEN by HP 15-dc1006tx'\n",
      " 'HP Spectre Folio - 13-ak0040tu' 'HP Elite x2 1013 G3 Tablet'\n",
      " 'HP EliteBook x360 1020 G2']\n"
     ]
    }
   ],
   "source": [
    "print(df[df.actual_price>100000]['Name'].unique())\n"
   ]
  },
  {
   "cell_type": "markdown",
   "metadata": {},
   "source": [
    "**Laptop with highest price**"
   ]
  },
  {
   "cell_type": "code",
   "execution_count": 53,
   "metadata": {},
   "outputs": [
    {
     "data": {
      "text/html": [
       "<div>\n",
       "<style>\n",
       "    .dataframe thead tr:only-child th {\n",
       "        text-align: right;\n",
       "    }\n",
       "\n",
       "    .dataframe thead th {\n",
       "        text-align: left;\n",
       "    }\n",
       "\n",
       "    .dataframe tbody tr th {\n",
       "        vertical-align: top;\n",
       "    }\n",
       "</style>\n",
       "<table border=\"1\" class=\"dataframe\">\n",
       "  <thead>\n",
       "    <tr style=\"text-align: right;\">\n",
       "      <th></th>\n",
       "      <th>Name</th>\n",
       "      <th>actual_price</th>\n",
       "      <th>discout</th>\n",
       "      <th>final_price</th>\n",
       "      <th>generation</th>\n",
       "      <th>graphic_card</th>\n",
       "      <th>hard_disk</th>\n",
       "      <th>included_items</th>\n",
       "      <th>os_installed</th>\n",
       "      <th>processor</th>\n",
       "      <th>processor_company</th>\n",
       "      <th>processor_type</th>\n",
       "      <th>ram</th>\n",
       "      <th>rating</th>\n",
       "      <th>ram_size</th>\n",
       "      <th>hd_size(GB)</th>\n",
       "    </tr>\n",
       "  </thead>\n",
       "  <tbody>\n",
       "    <tr>\n",
       "      <th>85</th>\n",
       "      <td>HP ZBook 17 G5 Mobile Workstation</td>\n",
       "      <td>667152</td>\n",
       "      <td>224481</td>\n",
       "      <td>442671</td>\n",
       "      <td>7</td>\n",
       "      <td>NVIDIA® Quadro® P4200 (8 GB GDDR5 dedicated)</td>\n",
       "      <td>512 GB PCIe® NVMe SSD</td>\n",
       "      <td>Not provided</td>\n",
       "      <td>Windows 10 Pro 64</td>\n",
       "      <td>Intel® Xeon® processor</td>\n",
       "      <td>Intel</td>\n",
       "      <td>Xeon®</td>\n",
       "      <td>32 GB DDR4-2666 ECC SDRAM (2 X 16 GB)</td>\n",
       "      <td>0.0</td>\n",
       "      <td>32</td>\n",
       "      <td>512</td>\n",
       "    </tr>\n",
       "  </tbody>\n",
       "</table>\n",
       "</div>"
      ],
      "text/plain": [
       "                                 Name  actual_price  discout  final_price  \\\n",
       "85  HP ZBook 17 G5 Mobile Workstation        667152   224481       442671   \n",
       "\n",
       "   generation                                  graphic_card  \\\n",
       "85          7  NVIDIA® Quadro® P4200 (8 GB GDDR5 dedicated)   \n",
       "\n",
       "                 hard_disk included_items       os_installed  \\\n",
       "85  512 GB PCIe® NVMe SSD   Not provided  Windows 10 Pro 64   \n",
       "\n",
       "                 processor processor_company processor_type  \\\n",
       "85  Intel® Xeon® processor             Intel          Xeon®   \n",
       "\n",
       "                                      ram  rating  ram_size  hd_size(GB)  \n",
       "85  32 GB DDR4-2666 ECC SDRAM (2 X 16 GB)     0.0        32          512  "
      ]
     },
     "execution_count": 53,
     "metadata": {},
     "output_type": "execute_result"
    }
   ],
   "source": [
    "df[df.actual_price==df.actual_price.max()]"
   ]
  },
  {
   "cell_type": "code",
   "execution_count": 63,
   "metadata": {},
   "outputs": [
    {
     "data": {
      "text/plain": [
       "<matplotlib.collections.PathCollection at 0x14771fb99b0>"
      ]
     },
     "execution_count": 63,
     "metadata": {},
     "output_type": "execute_result"
    },
    {
     "data": {
      "image/png": "[encoded data removed]",
      "text/plain": [
       "<matplotlib.figure.Figure at 0x14771e89828>"
      ]
     },
     "metadata": {},
     "output_type": "display_data"
    }
   ],
   "source": [
    "plt.title(\"ram size vs actual price\")\n",
    "plt.xlabel(\"ram size\")\n",
    "plt.ylabel(\"price\")\n",
    "plt.scatter(df['ram_size'],df['actual_price'])"
   ]
  },
  {
   "cell_type": "markdown",
   "metadata": {},
   "source": [
    "### Conclusion"
   ]
  },
  {
   "cell_type": "markdown",
   "metadata": {},
   "source": [
    "- Intel company processors are mostly preferred \n",
    "- Windows 10 Pro 64 and 8th Generation Intel i5 processor is used in good number\n",
    "- ram size effect the price of laptops.They have good correlation 0.7\n",
    "- 9 laptops models are there in economical range\n",
    "- 34 laptop models are there with price greater than one lakh\n",
    "- 1 TB 5400 RPM SATA is used for many models"
   ]
  }
 ],
 "metadata": {
  "kernelspec": {
   "display_name": "Python 3",
   "language": "python",
   "name": "python3"
  },
  "language_info": {
   "codemirror_mode": {
    "name": "ipython",
    "version": 3
   },
   "file_extension": ".py",
   "mimetype": "text/x-python",
   "name": "python",
   "nbconvert_exporter": "python",
   "pygments_lexer": "ipython3",
   "version": "3.6.7"
  }
 },
 "nbformat": 4,
 "nbformat_minor": 2
}
